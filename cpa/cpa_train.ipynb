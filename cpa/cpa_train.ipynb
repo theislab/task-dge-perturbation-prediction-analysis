{
 "cells": [
  {
   "metadata": {
    "ExecuteTime": {
     "end_time": "2024-10-28T19:00:18.739767Z",
     "start_time": "2024-10-28T18:56:49.939943Z"
    }
   },
   "cell_type": "code",
   "source": [
    "import anndata as ad\n",
    "import pandas as pd\n",
    "import cpa\n",
    "import scanpy as sc\n",
    "import numpy as np\n",
    "\n",
    "from latent_additive_evaluation.cpa_train import sc_test_h5ad, sc_train_h5ad"
   ],
   "id": "334314462338014c",
   "outputs": [
    {
     "name": "stderr",
     "output_type": "stream",
     "text": [
      "[rank: 0] Global seed set to 0\n"
     ]
    }
   ],
   "execution_count": 2
  },
  {
   "metadata": {
    "ExecuteTime": {
     "end_time": "2024-10-28T19:11:29.357740Z",
     "start_time": "2024-10-28T19:11:29.309570Z"
    }
   },
   "cell_type": "code",
   "source": [
    "import torch\n",
    "torch.set_float32_matmul_precision('medium')"
   ],
   "id": "bd86e411f8b2518e",
   "outputs": [],
   "execution_count": 13
  },
  {
   "metadata": {
    "ExecuteTime": {
     "end_time": "2024-10-28T19:03:08.878853Z",
     "start_time": "2024-10-28T19:03:08.874945Z"
    }
   },
   "cell_type": "code",
   "source": [
    "## VIASH START\n",
    "par = {\n",
    "  'sc_train_h5ad': '../data/neurips-2023-data/sc_train.h5ad',\n",
    "  'sc_test_h5ad': '../data/neurips-2023-data/sc_test.h5ad',\n",
    "  'output_sc': '../data/output/output_sc.h5ad',\n",
    "}\n",
    "meta = {\n",
    "  'name': 'cpa'\n",
    "}\n",
    "## VIASH END"
   ],
   "id": "ac2c15b947746ee6",
   "outputs": [],
   "execution_count": 8
  },
  {
   "metadata": {
    "ExecuteTime": {
     "end_time": "2024-10-28T19:03:14.976703Z",
     "start_time": "2024-10-28T19:03:14.969990Z"
    }
   },
   "cell_type": "code",
   "source": [
    "ae_hparams = {'n_latent': 64,\n",
    " 'recon_loss': 'gauss',\n",
    " 'doser_type': 'linear',\n",
    " 'n_hidden_encoder': 256,\n",
    " 'n_layers_encoder': 3,\n",
    " 'n_hidden_decoder': 512,\n",
    " 'n_layers_decoder': 2,\n",
    " 'use_batch_norm_encoder': True,\n",
    " 'use_layer_norm_encoder': False,\n",
    " 'use_batch_norm_decoder': True,\n",
    " 'use_layer_norm_decoder': False,\n",
    " 'dropout_rate_encoder': 0.25,\n",
    " 'dropout_rate_decoder': 0.25,\n",
    " 'variational': False,\n",
    " 'seed': 6478}\n",
    "\n",
    "trainer_params = {'n_epochs_kl_warmup': None,\n",
    " 'n_epochs_pretrain_ae': 50,\n",
    " 'n_epochs_adv_warmup': 100,\n",
    " 'n_epochs_mixup_warmup': 10,\n",
    " 'mixup_alpha': 0.1,\n",
    " 'adv_steps': None,\n",
    " 'n_hidden_adv': 128,\n",
    " 'n_layers_adv': 3,\n",
    " 'use_batch_norm_adv': False,\n",
    " 'use_layer_norm_adv': False,\n",
    " 'dropout_rate_adv': 0.2,\n",
    " 'reg_adv': 10.0,\n",
    " 'pen_adv': 0.1,\n",
    " 'lr': 0.0003,\n",
    " 'wd': 4e-07,\n",
    " 'adv_lr': 0.0003,\n",
    " 'adv_wd': 4e-07,\n",
    " 'adv_loss': 'cce',\n",
    " 'doser_lr': 0.0003,\n",
    " 'doser_wd': 4e-07,\n",
    " 'do_clip_grad': False,\n",
    " 'gradient_clip_value': 1.0,\n",
    " 'step_size_lr': 10}"
   ],
   "id": "5247d691539350d7",
   "outputs": [],
   "execution_count": 9
  },
  {
   "metadata": {
    "ExecuteTime": {
     "end_time": "2024-10-29T01:12:45.735804Z",
     "start_time": "2024-10-29T01:12:32.081593Z"
    }
   },
   "cell_type": "code",
   "source": [
    "fraction_validation = 0.1\n",
    "filtered_cells = sc_train_h5ad[sc_train_h5ad.obs.cell_type.isin([\"B cells\", \"Myeloid cells\"])]\n",
    "sm_cell_types = filtered_cells.obs.sm_cell_type.unique()\n",
    "num_validation_types = max(1, int(len(sm_cell_types) * fraction_validation))\n",
    "validation_sm_cell_types = np.random.choice(sm_cell_types, size=num_validation_types, replace=False)\n",
    "\n",
    "sc_train_h5ad.obs.loc[\n",
    "    sc_train_h5ad.obs.sm_cell_type.isin(validation_sm_cell_types), 'split'\n",
    "] = 'validation'"
   ],
   "id": "78537e9d5875e974",
   "outputs": [
    {
     "name": "stdout",
     "output_type": "stream",
     "text": [
      "Epoch 2/200:   0%| | 1/200 [6:05:50<1213:22:18, 21950.44s/it, v_num=1, recon=3.54e+3, r2_mean=0.554, adv_l\n",
      "Epoch 3/200:   1%| | 2/200 [5:46:09<571:09:42, 10384.76s/it, v_num=1, recon=3.05e+3, r2_mean=0.644, adv_lo\n"
     ]
    },
    {
     "ename": "TypeError",
     "evalue": "Cannot setitem on a Categorical with a new category (validation), set the categories first",
     "output_type": "error",
     "traceback": [
      "\u001B[0;31m---------------------------------------------------------------------------\u001B[0m",
      "\u001B[0;31mTypeError\u001B[0m                                 Traceback (most recent call last)",
      "Cell \u001B[0;32mIn[50], line 7\u001B[0m\n\u001B[1;32m      4\u001B[0m num_validation_types \u001B[38;5;241m=\u001B[39m \u001B[38;5;28mmax\u001B[39m(\u001B[38;5;241m1\u001B[39m, \u001B[38;5;28mint\u001B[39m(\u001B[38;5;28mlen\u001B[39m(sm_cell_types) \u001B[38;5;241m*\u001B[39m fraction_validation))\n\u001B[1;32m      5\u001B[0m validation_sm_cell_types \u001B[38;5;241m=\u001B[39m np\u001B[38;5;241m.\u001B[39mrandom\u001B[38;5;241m.\u001B[39mchoice(sm_cell_types, size\u001B[38;5;241m=\u001B[39mnum_validation_types, replace\u001B[38;5;241m=\u001B[39m\u001B[38;5;28;01mFalse\u001B[39;00m)\n\u001B[0;32m----> 7\u001B[0m \u001B[43msc_train_h5ad\u001B[49m\u001B[38;5;241;43m.\u001B[39;49m\u001B[43mobs\u001B[49m\u001B[38;5;241;43m.\u001B[39;49m\u001B[43mloc\u001B[49m\u001B[43m[\u001B[49m\n\u001B[1;32m      8\u001B[0m \u001B[43m    \u001B[49m\u001B[43msc_train_h5ad\u001B[49m\u001B[38;5;241;43m.\u001B[39;49m\u001B[43mobs\u001B[49m\u001B[38;5;241;43m.\u001B[39;49m\u001B[43msm_cell_type\u001B[49m\u001B[38;5;241;43m.\u001B[39;49m\u001B[43misin\u001B[49m\u001B[43m(\u001B[49m\u001B[43mvalidation_sm_cell_types\u001B[49m\u001B[43m)\u001B[49m\u001B[43m,\u001B[49m\u001B[43m \u001B[49m\u001B[38;5;124;43m'\u001B[39;49m\u001B[38;5;124;43msplit\u001B[39;49m\u001B[38;5;124;43m'\u001B[39;49m\n\u001B[1;32m      9\u001B[0m \u001B[43m]\u001B[49m \u001B[38;5;241m=\u001B[39m \u001B[38;5;124m'\u001B[39m\u001B[38;5;124mvalidation\u001B[39m\u001B[38;5;124m'\u001B[39m\n",
      "File \u001B[0;32m~/miniconda3/envs/cpa/lib/python3.9/site-packages/pandas/core/indexing.py:911\u001B[0m, in \u001B[0;36m_LocationIndexer.__setitem__\u001B[0;34m(self, key, value)\u001B[0m\n\u001B[1;32m    908\u001B[0m \u001B[38;5;28mself\u001B[39m\u001B[38;5;241m.\u001B[39m_has_valid_setitem_indexer(key)\n\u001B[1;32m    910\u001B[0m iloc \u001B[38;5;241m=\u001B[39m \u001B[38;5;28mself\u001B[39m \u001B[38;5;28;01mif\u001B[39;00m \u001B[38;5;28mself\u001B[39m\u001B[38;5;241m.\u001B[39mname \u001B[38;5;241m==\u001B[39m \u001B[38;5;124m\"\u001B[39m\u001B[38;5;124miloc\u001B[39m\u001B[38;5;124m\"\u001B[39m \u001B[38;5;28;01melse\u001B[39;00m \u001B[38;5;28mself\u001B[39m\u001B[38;5;241m.\u001B[39mobj\u001B[38;5;241m.\u001B[39miloc\n\u001B[0;32m--> 911\u001B[0m \u001B[43miloc\u001B[49m\u001B[38;5;241;43m.\u001B[39;49m\u001B[43m_setitem_with_indexer\u001B[49m\u001B[43m(\u001B[49m\u001B[43mindexer\u001B[49m\u001B[43m,\u001B[49m\u001B[43m \u001B[49m\u001B[43mvalue\u001B[49m\u001B[43m,\u001B[49m\u001B[43m \u001B[49m\u001B[38;5;28;43mself\u001B[39;49m\u001B[38;5;241;43m.\u001B[39;49m\u001B[43mname\u001B[49m\u001B[43m)\u001B[49m\n",
      "File \u001B[0;32m~/miniconda3/envs/cpa/lib/python3.9/site-packages/pandas/core/indexing.py:1942\u001B[0m, in \u001B[0;36m_iLocIndexer._setitem_with_indexer\u001B[0;34m(self, indexer, value, name)\u001B[0m\n\u001B[1;32m   1939\u001B[0m \u001B[38;5;66;03m# align and set the values\u001B[39;00m\n\u001B[1;32m   1940\u001B[0m \u001B[38;5;28;01mif\u001B[39;00m take_split_path:\n\u001B[1;32m   1941\u001B[0m     \u001B[38;5;66;03m# We have to operate column-wise\u001B[39;00m\n\u001B[0;32m-> 1942\u001B[0m     \u001B[38;5;28;43mself\u001B[39;49m\u001B[38;5;241;43m.\u001B[39;49m\u001B[43m_setitem_with_indexer_split_path\u001B[49m\u001B[43m(\u001B[49m\u001B[43mindexer\u001B[49m\u001B[43m,\u001B[49m\u001B[43m \u001B[49m\u001B[43mvalue\u001B[49m\u001B[43m,\u001B[49m\u001B[43m \u001B[49m\u001B[43mname\u001B[49m\u001B[43m)\u001B[49m\n\u001B[1;32m   1943\u001B[0m \u001B[38;5;28;01melse\u001B[39;00m:\n\u001B[1;32m   1944\u001B[0m     \u001B[38;5;28mself\u001B[39m\u001B[38;5;241m.\u001B[39m_setitem_single_block(indexer, value, name)\n",
      "File \u001B[0;32m~/miniconda3/envs/cpa/lib/python3.9/site-packages/pandas/core/indexing.py:2035\u001B[0m, in \u001B[0;36m_iLocIndexer._setitem_with_indexer_split_path\u001B[0;34m(self, indexer, value, name)\u001B[0m\n\u001B[1;32m   2032\u001B[0m \u001B[38;5;28;01melse\u001B[39;00m:\n\u001B[1;32m   2033\u001B[0m     \u001B[38;5;66;03m# scalar value\u001B[39;00m\n\u001B[1;32m   2034\u001B[0m     \u001B[38;5;28;01mfor\u001B[39;00m loc \u001B[38;5;129;01min\u001B[39;00m ilocs:\n\u001B[0;32m-> 2035\u001B[0m         \u001B[38;5;28;43mself\u001B[39;49m\u001B[38;5;241;43m.\u001B[39;49m\u001B[43m_setitem_single_column\u001B[49m\u001B[43m(\u001B[49m\u001B[43mloc\u001B[49m\u001B[43m,\u001B[49m\u001B[43m \u001B[49m\u001B[43mvalue\u001B[49m\u001B[43m,\u001B[49m\u001B[43m \u001B[49m\u001B[43mpi\u001B[49m\u001B[43m)\u001B[49m\n",
      "File \u001B[0;32m~/miniconda3/envs/cpa/lib/python3.9/site-packages/pandas/core/indexing.py:2175\u001B[0m, in \u001B[0;36m_iLocIndexer._setitem_single_column\u001B[0;34m(self, loc, value, plane_indexer)\u001B[0m\n\u001B[1;32m   2165\u001B[0m     \u001B[38;5;28;01mif\u001B[39;00m dtype \u001B[38;5;241m==\u001B[39m np\u001B[38;5;241m.\u001B[39mvoid:\n\u001B[1;32m   2166\u001B[0m         \u001B[38;5;66;03m# This means we're expanding, with multiple columns, e.g.\u001B[39;00m\n\u001B[1;32m   2167\u001B[0m         \u001B[38;5;66;03m#     df = pd.DataFrame({'A': [1,2,3], 'B': [4,5,6]})\u001B[39;00m\n\u001B[0;32m   (...)\u001B[0m\n\u001B[1;32m   2170\u001B[0m         \u001B[38;5;66;03m# Here, we replace those temporary `np.void` columns with\u001B[39;00m\n\u001B[1;32m   2171\u001B[0m         \u001B[38;5;66;03m# columns of the appropriate dtype, based on `value`.\u001B[39;00m\n\u001B[1;32m   2172\u001B[0m         \u001B[38;5;28mself\u001B[39m\u001B[38;5;241m.\u001B[39mobj\u001B[38;5;241m.\u001B[39miloc[:, loc] \u001B[38;5;241m=\u001B[39m construct_1d_array_from_inferred_fill_value(\n\u001B[1;32m   2173\u001B[0m             value, \u001B[38;5;28mlen\u001B[39m(\u001B[38;5;28mself\u001B[39m\u001B[38;5;241m.\u001B[39mobj)\n\u001B[1;32m   2174\u001B[0m         )\n\u001B[0;32m-> 2175\u001B[0m     \u001B[38;5;28;43mself\u001B[39;49m\u001B[38;5;241;43m.\u001B[39;49m\u001B[43mobj\u001B[49m\u001B[38;5;241;43m.\u001B[39;49m\u001B[43m_mgr\u001B[49m\u001B[38;5;241;43m.\u001B[39;49m\u001B[43mcolumn_setitem\u001B[49m\u001B[43m(\u001B[49m\u001B[43mloc\u001B[49m\u001B[43m,\u001B[49m\u001B[43m \u001B[49m\u001B[43mplane_indexer\u001B[49m\u001B[43m,\u001B[49m\u001B[43m \u001B[49m\u001B[43mvalue\u001B[49m\u001B[43m)\u001B[49m\n\u001B[1;32m   2177\u001B[0m \u001B[38;5;28mself\u001B[39m\u001B[38;5;241m.\u001B[39mobj\u001B[38;5;241m.\u001B[39m_clear_item_cache()\n",
      "File \u001B[0;32m~/miniconda3/envs/cpa/lib/python3.9/site-packages/pandas/core/internals/managers.py:1337\u001B[0m, in \u001B[0;36mBlockManager.column_setitem\u001B[0;34m(self, loc, idx, value, inplace_only)\u001B[0m\n\u001B[1;32m   1335\u001B[0m     col_mgr\u001B[38;5;241m.\u001B[39msetitem_inplace(idx, value)\n\u001B[1;32m   1336\u001B[0m \u001B[38;5;28;01melse\u001B[39;00m:\n\u001B[0;32m-> 1337\u001B[0m     new_mgr \u001B[38;5;241m=\u001B[39m \u001B[43mcol_mgr\u001B[49m\u001B[38;5;241;43m.\u001B[39;49m\u001B[43msetitem\u001B[49m\u001B[43m(\u001B[49m\u001B[43m(\u001B[49m\u001B[43midx\u001B[49m\u001B[43m,\u001B[49m\u001B[43m)\u001B[49m\u001B[43m,\u001B[49m\u001B[43m \u001B[49m\u001B[43mvalue\u001B[49m\u001B[43m)\u001B[49m\n\u001B[1;32m   1338\u001B[0m     \u001B[38;5;28mself\u001B[39m\u001B[38;5;241m.\u001B[39miset(loc, new_mgr\u001B[38;5;241m.\u001B[39m_block\u001B[38;5;241m.\u001B[39mvalues, inplace\u001B[38;5;241m=\u001B[39m\u001B[38;5;28;01mTrue\u001B[39;00m)\n\u001B[1;32m   1340\u001B[0m \u001B[38;5;28;01mif\u001B[39;00m needs_to_warn:\n",
      "File \u001B[0;32m~/miniconda3/envs/cpa/lib/python3.9/site-packages/pandas/core/internals/managers.py:415\u001B[0m, in \u001B[0;36mBaseBlockManager.setitem\u001B[0;34m(self, indexer, value, warn)\u001B[0m\n\u001B[1;32m    411\u001B[0m     \u001B[38;5;66;03m# No need to split if we either set all columns or on a single block\u001B[39;00m\n\u001B[1;32m    412\u001B[0m     \u001B[38;5;66;03m# manager\u001B[39;00m\n\u001B[1;32m    413\u001B[0m     \u001B[38;5;28mself\u001B[39m \u001B[38;5;241m=\u001B[39m \u001B[38;5;28mself\u001B[39m\u001B[38;5;241m.\u001B[39mcopy()\n\u001B[0;32m--> 415\u001B[0m \u001B[38;5;28;01mreturn\u001B[39;00m \u001B[38;5;28;43mself\u001B[39;49m\u001B[38;5;241;43m.\u001B[39;49m\u001B[43mapply\u001B[49m\u001B[43m(\u001B[49m\u001B[38;5;124;43m\"\u001B[39;49m\u001B[38;5;124;43msetitem\u001B[39;49m\u001B[38;5;124;43m\"\u001B[39;49m\u001B[43m,\u001B[49m\u001B[43m \u001B[49m\u001B[43mindexer\u001B[49m\u001B[38;5;241;43m=\u001B[39;49m\u001B[43mindexer\u001B[49m\u001B[43m,\u001B[49m\u001B[43m \u001B[49m\u001B[43mvalue\u001B[49m\u001B[38;5;241;43m=\u001B[39;49m\u001B[43mvalue\u001B[49m\u001B[43m)\u001B[49m\n",
      "File \u001B[0;32m~/miniconda3/envs/cpa/lib/python3.9/site-packages/pandas/core/internals/managers.py:363\u001B[0m, in \u001B[0;36mBaseBlockManager.apply\u001B[0;34m(self, f, align_keys, **kwargs)\u001B[0m\n\u001B[1;32m    361\u001B[0m         applied \u001B[38;5;241m=\u001B[39m b\u001B[38;5;241m.\u001B[39mapply(f, \u001B[38;5;241m*\u001B[39m\u001B[38;5;241m*\u001B[39mkwargs)\n\u001B[1;32m    362\u001B[0m     \u001B[38;5;28;01melse\u001B[39;00m:\n\u001B[0;32m--> 363\u001B[0m         applied \u001B[38;5;241m=\u001B[39m \u001B[38;5;28;43mgetattr\u001B[39;49m\u001B[43m(\u001B[49m\u001B[43mb\u001B[49m\u001B[43m,\u001B[49m\u001B[43m \u001B[49m\u001B[43mf\u001B[49m\u001B[43m)\u001B[49m\u001B[43m(\u001B[49m\u001B[38;5;241;43m*\u001B[39;49m\u001B[38;5;241;43m*\u001B[39;49m\u001B[43mkwargs\u001B[49m\u001B[43m)\u001B[49m\n\u001B[1;32m    364\u001B[0m     result_blocks \u001B[38;5;241m=\u001B[39m extend_blocks(applied, result_blocks)\n\u001B[1;32m    366\u001B[0m out \u001B[38;5;241m=\u001B[39m \u001B[38;5;28mtype\u001B[39m(\u001B[38;5;28mself\u001B[39m)\u001B[38;5;241m.\u001B[39mfrom_blocks(result_blocks, \u001B[38;5;28mself\u001B[39m\u001B[38;5;241m.\u001B[39maxes)\n",
      "File \u001B[0;32m~/miniconda3/envs/cpa/lib/python3.9/site-packages/pandas/core/internals/blocks.py:2063\u001B[0m, in \u001B[0;36mEABackedBlock.setitem\u001B[0;34m(self, indexer, value, using_cow)\u001B[0m\n\u001B[1;32m   2060\u001B[0m check_setitem_lengths(indexer, value, values)\n\u001B[1;32m   2062\u001B[0m \u001B[38;5;28;01mtry\u001B[39;00m:\n\u001B[0;32m-> 2063\u001B[0m     \u001B[43mvalues\u001B[49m\u001B[43m[\u001B[49m\u001B[43mindexer\u001B[49m\u001B[43m]\u001B[49m \u001B[38;5;241m=\u001B[39m value\n\u001B[1;32m   2064\u001B[0m \u001B[38;5;28;01mexcept\u001B[39;00m (\u001B[38;5;167;01mValueError\u001B[39;00m, \u001B[38;5;167;01mTypeError\u001B[39;00m):\n\u001B[1;32m   2065\u001B[0m     \u001B[38;5;28;01mif\u001B[39;00m \u001B[38;5;28misinstance\u001B[39m(\u001B[38;5;28mself\u001B[39m\u001B[38;5;241m.\u001B[39mdtype, IntervalDtype):\n\u001B[1;32m   2066\u001B[0m         \u001B[38;5;66;03m# see TestSetitemFloatIntervalWithIntIntervalValues\u001B[39;00m\n",
      "File \u001B[0;32m~/miniconda3/envs/cpa/lib/python3.9/site-packages/pandas/core/arrays/_mixins.py:261\u001B[0m, in \u001B[0;36mNDArrayBackedExtensionArray.__setitem__\u001B[0;34m(self, key, value)\u001B[0m\n\u001B[1;32m    259\u001B[0m \u001B[38;5;28;01mdef\u001B[39;00m \u001B[38;5;21m__setitem__\u001B[39m(\u001B[38;5;28mself\u001B[39m, key, value) \u001B[38;5;241m-\u001B[39m\u001B[38;5;241m>\u001B[39m \u001B[38;5;28;01mNone\u001B[39;00m:\n\u001B[1;32m    260\u001B[0m     key \u001B[38;5;241m=\u001B[39m check_array_indexer(\u001B[38;5;28mself\u001B[39m, key)\n\u001B[0;32m--> 261\u001B[0m     value \u001B[38;5;241m=\u001B[39m \u001B[38;5;28;43mself\u001B[39;49m\u001B[38;5;241;43m.\u001B[39;49m\u001B[43m_validate_setitem_value\u001B[49m\u001B[43m(\u001B[49m\u001B[43mvalue\u001B[49m\u001B[43m)\u001B[49m\n\u001B[1;32m    262\u001B[0m     \u001B[38;5;28mself\u001B[39m\u001B[38;5;241m.\u001B[39m_ndarray[key] \u001B[38;5;241m=\u001B[39m value\n",
      "File \u001B[0;32m~/miniconda3/envs/cpa/lib/python3.9/site-packages/pandas/core/arrays/categorical.py:1589\u001B[0m, in \u001B[0;36mCategorical._validate_setitem_value\u001B[0;34m(self, value)\u001B[0m\n\u001B[1;32m   1587\u001B[0m     \u001B[38;5;28;01mreturn\u001B[39;00m \u001B[38;5;28mself\u001B[39m\u001B[38;5;241m.\u001B[39m_validate_listlike(value)\n\u001B[1;32m   1588\u001B[0m \u001B[38;5;28;01melse\u001B[39;00m:\n\u001B[0;32m-> 1589\u001B[0m     \u001B[38;5;28;01mreturn\u001B[39;00m \u001B[38;5;28;43mself\u001B[39;49m\u001B[38;5;241;43m.\u001B[39;49m\u001B[43m_validate_scalar\u001B[49m\u001B[43m(\u001B[49m\u001B[43mvalue\u001B[49m\u001B[43m)\u001B[49m\n",
      "File \u001B[0;32m~/miniconda3/envs/cpa/lib/python3.9/site-packages/pandas/core/arrays/categorical.py:1614\u001B[0m, in \u001B[0;36mCategorical._validate_scalar\u001B[0;34m(self, fill_value)\u001B[0m\n\u001B[1;32m   1612\u001B[0m     fill_value \u001B[38;5;241m=\u001B[39m \u001B[38;5;28mself\u001B[39m\u001B[38;5;241m.\u001B[39m_unbox_scalar(fill_value)\n\u001B[1;32m   1613\u001B[0m \u001B[38;5;28;01melse\u001B[39;00m:\n\u001B[0;32m-> 1614\u001B[0m     \u001B[38;5;28;01mraise\u001B[39;00m \u001B[38;5;167;01mTypeError\u001B[39;00m(\n\u001B[1;32m   1615\u001B[0m         \u001B[38;5;124m\"\u001B[39m\u001B[38;5;124mCannot setitem on a Categorical with a new \u001B[39m\u001B[38;5;124m\"\u001B[39m\n\u001B[1;32m   1616\u001B[0m         \u001B[38;5;124mf\u001B[39m\u001B[38;5;124m\"\u001B[39m\u001B[38;5;124mcategory (\u001B[39m\u001B[38;5;132;01m{\u001B[39;00mfill_value\u001B[38;5;132;01m}\u001B[39;00m\u001B[38;5;124m), set the categories first\u001B[39m\u001B[38;5;124m\"\u001B[39m\n\u001B[1;32m   1617\u001B[0m     ) \u001B[38;5;28;01mfrom\u001B[39;00m \u001B[38;5;28;01mNone\u001B[39;00m\n\u001B[1;32m   1618\u001B[0m \u001B[38;5;28;01mreturn\u001B[39;00m fill_value\n",
      "\u001B[0;31mTypeError\u001B[0m: Cannot setitem on a Categorical with a new category (validation), set the categories first"
     ]
    }
   ],
   "execution_count": 50
  },
  {
   "metadata": {
    "ExecuteTime": {
     "end_time": "2024-10-28T22:11:22.313355Z",
     "start_time": "2024-10-28T22:08:55.015742Z"
    }
   },
   "cell_type": "code",
   "source": [
    "print('Reading input files', flush=True)\n",
    "sc_train_h5ad = ad.read_h5ad(par['sc_train_h5ad'])\n",
    "sc_test_h5ad = ad.read_h5ad(par['sc_test_h5ad'])\n",
    "\n",
    "# remove the counts from the test set to prevent leakage\n",
    "sc_test_h5ad.X[:] = 0\n",
    "\n",
    "print('Preprocess data for CPA', flush=True)\n",
    "sc_h5ad = ad.concat([sc_train_h5ad, sc_test_h5ad], axis=0)\n",
    "sc_h5ad.obs['control'] = sc_h5ad.obs['sm_name'].eq(\"Dimethyl Sulfoxide\").astype(int)\n",
    "sc_h5ad.layers[\"counts\"] = sc_h5ad.X.copy()\n",
    "sc.pp.normalize_total(sc_h5ad, target_sum=1e4)\n",
    "sc.pp.log1p(sc_h5ad)\n",
    "# cpa.CPA.setup_anndata(sc_h5ad, \n",
    "#                       perturbation_key='sm_name',\n",
    "#                       dosage_key='dose_uM',\n",
    "#                       control_group='Dimethyl Sulfoxide',\n",
    "#                       batch_key=\"donor_id\",\n",
    "#                       smiles_key='SMILES',\n",
    "#                       is_count_data=False,\n",
    "#                       categorical_covariate_keys=['cell_type'],\n",
    "#                       max_comb_len=1,\n",
    "#                      )\n",
    "\n",
    "# print('Train model', flush=True)\n",
    "# model = cpa.CPA(sc_h5ad,\n",
    "#                 split_key=\"split\",\n",
    "#                 train_split=\"train\",\n",
    "#                 test_split=\"test\",\n",
    "#                 use_rdkit_embeddings=True,\n",
    "#                 **ae_hparams)"
   ],
   "id": "f4f858b71c436073",
   "outputs": [
    {
     "name": "stdout",
     "output_type": "stream",
     "text": [
      "Reading input files\n",
      "Preprocess data for CPA\n"
     ]
    }
   ],
   "execution_count": 31
  },
  {
   "metadata": {
    "ExecuteTime": {
     "end_time": "2024-10-28T22:01:48.345415Z",
     "start_time": "2024-10-28T22:01:47.965063Z"
    }
   },
   "cell_type": "code",
   "source": [
    "model = cpa.CPA(sc_h5ad,\n",
    "                split_key=\"split\",\n",
    "                train_split=\"train\",\n",
    "                test_split=\"test\",\n",
    "                valid_split=\"validation\",\n",
    "                use_rdkit_embeddings=True,\n",
    "                **ae_hparams)"
   ],
   "id": "51683eddacbf29ce",
   "outputs": [
    {
     "name": "stdout",
     "output_type": "stream",
     "text": [
      "(141, 2048)\n"
     ]
    },
    {
     "ename": "TypeError",
     "evalue": "__init__() got an unexpected keyword argument 'ood_split'",
     "output_type": "error",
     "traceback": [
      "\u001B[0;31m---------------------------------------------------------------------------\u001B[0m",
      "\u001B[0;31mTypeError\u001B[0m                                 Traceback (most recent call last)",
      "Cell \u001B[0;32mIn[23], line 1\u001B[0m\n\u001B[0;32m----> 1\u001B[0m model \u001B[38;5;241m=\u001B[39m \u001B[43mcpa\u001B[49m\u001B[38;5;241;43m.\u001B[39;49m\u001B[43mCPA\u001B[49m\u001B[43m(\u001B[49m\u001B[43msc_h5ad\u001B[49m\u001B[43m,\u001B[49m\n\u001B[1;32m      2\u001B[0m \u001B[43m                \u001B[49m\u001B[43msplit_key\u001B[49m\u001B[38;5;241;43m=\u001B[39;49m\u001B[38;5;124;43m\"\u001B[39;49m\u001B[38;5;124;43msplit\u001B[39;49m\u001B[38;5;124;43m\"\u001B[39;49m\u001B[43m,\u001B[49m\n\u001B[1;32m      3\u001B[0m \u001B[43m                \u001B[49m\u001B[43mtrain_split\u001B[49m\u001B[38;5;241;43m=\u001B[39;49m\u001B[38;5;124;43m\"\u001B[39;49m\u001B[38;5;124;43mtrain\u001B[39;49m\u001B[38;5;124;43m\"\u001B[39;49m\u001B[43m,\u001B[49m\n\u001B[1;32m      4\u001B[0m \u001B[43m                \u001B[49m\u001B[43mood_split\u001B[49m\u001B[38;5;241;43m=\u001B[39;49m\u001B[38;5;124;43m\"\u001B[39;49m\u001B[38;5;124;43mtest\u001B[39;49m\u001B[38;5;124;43m\"\u001B[39;49m\u001B[43m,\u001B[49m\n\u001B[1;32m      5\u001B[0m \u001B[43m                \u001B[49m\u001B[43muse_rdkit_embeddings\u001B[49m\u001B[38;5;241;43m=\u001B[39;49m\u001B[38;5;28;43;01mTrue\u001B[39;49;00m\u001B[43m,\u001B[49m\n\u001B[1;32m      6\u001B[0m \u001B[43m                \u001B[49m\u001B[38;5;241;43m*\u001B[39;49m\u001B[38;5;241;43m*\u001B[39;49m\u001B[43mae_hparams\u001B[49m\u001B[43m)\u001B[49m\n",
      "File \u001B[0;32m~/miniconda3/envs/cpa/lib/python3.9/site-packages/cpa/_model.py:116\u001B[0m, in \u001B[0;36mCPA.__init__\u001B[0;34m(self, adata, split_key, train_split, valid_split, test_split, use_rdkit_embeddings, **hyper_params)\u001B[0m\n\u001B[1;32m    113\u001B[0m     drug_embeddings \u001B[38;5;241m=\u001B[39m \u001B[38;5;28mself\u001B[39m\u001B[38;5;241m.\u001B[39m__get_rdkit_embeddings()\n\u001B[1;32m    114\u001B[0m     hyper_params[\u001B[38;5;124m'\u001B[39m\u001B[38;5;124mdrug_embeddings\u001B[39m\u001B[38;5;124m'\u001B[39m] \u001B[38;5;241m=\u001B[39m drug_embeddings\n\u001B[0;32m--> 116\u001B[0m \u001B[38;5;28mself\u001B[39m\u001B[38;5;241m.\u001B[39mmodule \u001B[38;5;241m=\u001B[39m \u001B[43mCPAModule\u001B[49m\u001B[43m(\u001B[49m\n\u001B[1;32m    117\u001B[0m \u001B[43m    \u001B[49m\u001B[43mn_genes\u001B[49m\u001B[38;5;241;43m=\u001B[39;49m\u001B[43madata\u001B[49m\u001B[38;5;241;43m.\u001B[39;49m\u001B[43mn_vars\u001B[49m\u001B[43m,\u001B[49m\n\u001B[1;32m    118\u001B[0m \u001B[43m    \u001B[49m\u001B[43mn_perts\u001B[49m\u001B[38;5;241;43m=\u001B[39;49m\u001B[38;5;28;43mlen\u001B[39;49m\u001B[43m(\u001B[49m\u001B[38;5;28;43mself\u001B[39;49m\u001B[38;5;241;43m.\u001B[39;49m\u001B[43mpert_encoder\u001B[49m\u001B[43m)\u001B[49m\u001B[43m,\u001B[49m\n\u001B[1;32m    119\u001B[0m \u001B[43m    \u001B[49m\u001B[43mcovars_encoder\u001B[49m\u001B[38;5;241;43m=\u001B[39;49m\u001B[38;5;28;43mself\u001B[39;49m\u001B[38;5;241;43m.\u001B[39;49m\u001B[43mcovars_encoder\u001B[49m\u001B[43m,\u001B[49m\n\u001B[1;32m    120\u001B[0m \u001B[43m    \u001B[49m\u001B[38;5;241;43m*\u001B[39;49m\u001B[38;5;241;43m*\u001B[39;49m\u001B[43mhyper_params\u001B[49m\u001B[43m,\u001B[49m\n\u001B[1;32m    121\u001B[0m \u001B[43m\u001B[49m\u001B[43m)\u001B[49m\u001B[38;5;241m.\u001B[39mfloat()\n\u001B[1;32m    123\u001B[0m train_indices, valid_indices, test_indices \u001B[38;5;241m=\u001B[39m \u001B[38;5;28;01mNone\u001B[39;00m, \u001B[38;5;28;01mNone\u001B[39;00m, \u001B[38;5;28;01mNone\u001B[39;00m\n\u001B[1;32m    124\u001B[0m \u001B[38;5;28;01mif\u001B[39;00m split_key \u001B[38;5;129;01mis\u001B[39;00m \u001B[38;5;129;01mnot\u001B[39;00m \u001B[38;5;28;01mNone\u001B[39;00m:\n",
      "\u001B[0;31mTypeError\u001B[0m: __init__() got an unexpected keyword argument 'ood_split'"
     ]
    }
   ],
   "execution_count": 23
  },
  {
   "metadata": {
    "ExecuteTime": {
     "end_time": "2024-10-29T01:17:47.178630Z",
     "start_time": "2024-10-29T01:17:47.135068Z"
    }
   },
   "cell_type": "code",
   "source": "sc_train_h5ad",
   "id": "1637abd03507c095",
   "outputs": [
    {
     "data": {
      "text/plain": [
       "AnnData object with n_obs × n_vars = 258931 × 5317\n",
       "    obs: 'dose_uM', 'timepoint_hr', 'well', 'row', 'col', 'plate_name', 'cell_type', 'split', 'donor_id', 'sm_name', 'control', 'SMILES', 'sm_lincs_id', 'library_id', 'plate_well_celltype_reannotated', 'cell_count_by_well_celltype', 'cell_count_by_plate_well', 'sm_cell_type', 'CPA_cat', 'CPA_Dimethyl Sulfoxide', '_scvi_sm_name', '_scvi_cell_type', '_scvi_donor_id'\n",
       "    obsm: 'perts', 'perts_doses'"
      ]
     },
     "execution_count": 55,
     "metadata": {},
     "output_type": "execute_result"
    }
   ],
   "execution_count": 55
  },
  {
   "metadata": {
    "ExecuteTime": {
     "end_time": "2024-10-29T01:21:52.519851Z",
     "start_time": "2024-10-29T01:21:52.380184Z"
    }
   },
   "cell_type": "code",
   "source": [
    "category_cpa = [\"Donor 1_B cells_Donor 1_5-(9-Isopropyl-8-methyl-2-morpholino-9H-purin-6-yl)pyrimidin-2-amine\", \"Donor 1_B cells_Donor 1_ABT737\"]\n",
    "sc_train_h5ad[~sc_train_h5ad.obs.CPA_cat.isin(category_cpa)]"
   ],
   "id": "f44fcbd308b8d3e0",
   "outputs": [
    {
     "data": {
      "text/plain": [
       "View of AnnData object with n_obs × n_vars = 258931 × 5317\n",
       "    obs: 'dose_uM', 'timepoint_hr', 'well', 'row', 'col', 'plate_name', 'cell_type', 'split', 'donor_id', 'sm_name', 'control', 'SMILES', 'sm_lincs_id', 'library_id', 'plate_well_celltype_reannotated', 'cell_count_by_well_celltype', 'cell_count_by_plate_well', 'sm_cell_type', 'CPA_cat', 'CPA_Dimethyl Sulfoxide', '_scvi_sm_name', '_scvi_cell_type', '_scvi_donor_id'\n",
       "    obsm: 'perts', 'perts_doses'"
      ]
     },
     "execution_count": 62,
     "metadata": {},
     "output_type": "execute_result"
    }
   ],
   "execution_count": 62
  },
  {
   "metadata": {
    "ExecuteTime": {
     "end_time": "2024-10-29T01:22:29.191803Z",
     "start_time": "2024-10-29T01:22:18.140326Z"
    }
   },
   "cell_type": "code",
   "source": "cpa.CPA.load(\"../data/cpa2\", sc_train_h5ad[~sc_train_h5ad.obs.CPA_cat.isin(category_cpa)])",
   "id": "9a7ffd468f2c328a",
   "outputs": [
    {
     "name": "stdout",
     "output_type": "stream",
     "text": [
      "\u001B[34mINFO    \u001B[0m File ..\u001B[35m/data/cpa2/\u001B[0m\u001B[95mmodel.pt\u001B[0m already downloaded                                                             \n"
     ]
    },
    {
     "name": "stderr",
     "output_type": "stream",
     "text": [
      "100%|██████████████████████████████████████████████████████████| 258813/258813 [00:06<00:00, 41802.53it/s]\n",
      "100%|████████████████████████████████████████████████████████| 258813/258813 [00:00<00:00, 1275713.58it/s]\n"
     ]
    },
    {
     "ename": "ValueError",
     "evalue": "Category Donor 1_B cells_Donor 1_AMD-070 (hydrochloride) not found in source registry. Cannot transfer setup without `extend_categories = True`.",
     "output_type": "error",
     "traceback": [
      "\u001B[0;31m---------------------------------------------------------------------------\u001B[0m",
      "\u001B[0;31mValueError\u001B[0m                                Traceback (most recent call last)",
      "Cell \u001B[0;32mIn[64], line 1\u001B[0m\n\u001B[0;32m----> 1\u001B[0m \u001B[43mcpa\u001B[49m\u001B[38;5;241;43m.\u001B[39;49m\u001B[43mCPA\u001B[49m\u001B[38;5;241;43m.\u001B[39;49m\u001B[43mload\u001B[49m\u001B[43m(\u001B[49m\u001B[38;5;124;43m\"\u001B[39;49m\u001B[38;5;124;43m../data/cpa2\u001B[39;49m\u001B[38;5;124;43m\"\u001B[39;49m\u001B[43m,\u001B[49m\u001B[43m \u001B[49m\u001B[43msc_train_h5ad\u001B[49m\u001B[43m[\u001B[49m\u001B[38;5;241;43m~\u001B[39;49m\u001B[43msc_train_h5ad\u001B[49m\u001B[38;5;241;43m.\u001B[39;49m\u001B[43mobs\u001B[49m\u001B[38;5;241;43m.\u001B[39;49m\u001B[43mCPA_cat\u001B[49m\u001B[38;5;241;43m.\u001B[39;49m\u001B[43misin\u001B[49m\u001B[43m(\u001B[49m\u001B[43mcategory_cpa\u001B[49m\u001B[43m)\u001B[49m\u001B[43m]\u001B[49m\u001B[43m)\u001B[49m\n",
      "File \u001B[0;32m~/miniconda3/envs/cpa/lib/python3.9/site-packages/cpa/_model.py:1039\u001B[0m, in \u001B[0;36mCPA.load\u001B[0;34m(cls, dir_path, adata, use_gpu)\u001B[0m\n\u001B[1;32m   1035\u001B[0m     \u001B[38;5;28mcls\u001B[39m\u001B[38;5;241m.\u001B[39mcovars_encoder \u001B[38;5;241m=\u001B[39m total_dict[\u001B[38;5;124m\"\u001B[39m\u001B[38;5;124mcovars_encoder\u001B[39m\u001B[38;5;124m\"\u001B[39m]\n\u001B[1;32m   1036\u001B[0m     \u001B[38;5;28mcls\u001B[39m\u001B[38;5;241m.\u001B[39mpert_smiles_map \u001B[38;5;241m=\u001B[39m total_dict\u001B[38;5;241m.\u001B[39mget(\u001B[38;5;124m\"\u001B[39m\u001B[38;5;124mpert_smiles_map\u001B[39m\u001B[38;5;124m\"\u001B[39m, \u001B[38;5;28;01mNone\u001B[39;00m)\n\u001B[0;32m-> 1039\u001B[0m model \u001B[38;5;241m=\u001B[39m \u001B[38;5;28;43msuper\u001B[39;49m\u001B[43m(\u001B[49m\u001B[43m)\u001B[49m\u001B[38;5;241;43m.\u001B[39;49m\u001B[43mload\u001B[49m\u001B[43m(\u001B[49m\u001B[43mdir_path\u001B[49m\u001B[43m,\u001B[49m\u001B[43m \u001B[49m\u001B[43madata\u001B[49m\u001B[43m,\u001B[49m\u001B[43m \u001B[49m\u001B[43muse_gpu\u001B[49m\u001B[43m)\u001B[49m\n\u001B[1;32m   1041\u001B[0m \u001B[38;5;28;01mtry\u001B[39;00m:\n\u001B[1;32m   1042\u001B[0m     model\u001B[38;5;241m.\u001B[39mepoch_history \u001B[38;5;241m=\u001B[39m pd\u001B[38;5;241m.\u001B[39mread_csv(os\u001B[38;5;241m.\u001B[39mpath\u001B[38;5;241m.\u001B[39mjoin(dir_path, \u001B[38;5;124m\"\u001B[39m\u001B[38;5;124mhistory.csv\u001B[39m\u001B[38;5;124m\"\u001B[39m))\n",
      "File \u001B[0;32m~/miniconda3/envs/cpa/lib/python3.9/site-packages/scvi/model/base/_base_model.py:660\u001B[0m, in \u001B[0;36mBaseModelClass.load\u001B[0;34m(cls, dir_path, adata, use_gpu, prefix, backup_url)\u001B[0m\n\u001B[1;32m    656\u001B[0m \u001B[38;5;66;03m# Calling ``setup_anndata`` method with the original arguments passed into\u001B[39;00m\n\u001B[1;32m    657\u001B[0m \u001B[38;5;66;03m# the saved model. This enables simple backwards compatibility in the case of\u001B[39;00m\n\u001B[1;32m    658\u001B[0m \u001B[38;5;66;03m# newly introduced fields or parameters.\u001B[39;00m\n\u001B[1;32m    659\u001B[0m method_name \u001B[38;5;241m=\u001B[39m registry\u001B[38;5;241m.\u001B[39mget(_SETUP_METHOD_NAME, \u001B[38;5;124m\"\u001B[39m\u001B[38;5;124msetup_anndata\u001B[39m\u001B[38;5;124m\"\u001B[39m)\n\u001B[0;32m--> 660\u001B[0m \u001B[38;5;28;43mgetattr\u001B[39;49m\u001B[43m(\u001B[49m\u001B[38;5;28;43mcls\u001B[39;49m\u001B[43m,\u001B[49m\u001B[43m \u001B[49m\u001B[43mmethod_name\u001B[49m\u001B[43m)\u001B[49m\u001B[43m(\u001B[49m\n\u001B[1;32m    661\u001B[0m \u001B[43m    \u001B[49m\u001B[43madata\u001B[49m\u001B[43m,\u001B[49m\u001B[43m \u001B[49m\u001B[43msource_registry\u001B[49m\u001B[38;5;241;43m=\u001B[39;49m\u001B[43mregistry\u001B[49m\u001B[43m,\u001B[49m\u001B[43m \u001B[49m\u001B[38;5;241;43m*\u001B[39;49m\u001B[38;5;241;43m*\u001B[39;49m\u001B[43mregistry\u001B[49m\u001B[43m[\u001B[49m\u001B[43m_SETUP_ARGS_KEY\u001B[49m\u001B[43m]\u001B[49m\n\u001B[1;32m    662\u001B[0m \u001B[43m\u001B[49m\u001B[43m)\u001B[49m\n\u001B[1;32m    664\u001B[0m model \u001B[38;5;241m=\u001B[39m _initialize_model(\u001B[38;5;28mcls\u001B[39m, adata, attr_dict)\n\u001B[1;32m    665\u001B[0m model\u001B[38;5;241m.\u001B[39mmodule\u001B[38;5;241m.\u001B[39mon_load(model)\n",
      "File \u001B[0;32m~/miniconda3/envs/cpa/lib/python3.9/site-packages/cpa/_model.py:424\u001B[0m, in \u001B[0;36mCPA.setup_anndata\u001B[0;34m(cls, adata, perturbation_key, control_group, dosage_key, batch_key, layer, smiles_key, is_count_data, categorical_covariate_keys, deg_uns_key, deg_uns_cat_key, max_comb_len, **kwargs)\u001B[0m\n\u001B[1;32m    412\u001B[0m     anndata_fields\u001B[38;5;241m.\u001B[39mappend(\n\u001B[1;32m    413\u001B[0m         ObsmField(\n\u001B[1;32m    414\u001B[0m             CPA_REGISTRY_KEYS\u001B[38;5;241m.\u001B[39mDEG_MASK_R2,\n\u001B[0;32m   (...)\u001B[0m\n\u001B[1;32m    418\u001B[0m         )\n\u001B[1;32m    419\u001B[0m     )\n\u001B[1;32m    421\u001B[0m adata_manager \u001B[38;5;241m=\u001B[39m AnnDataManager(\n\u001B[1;32m    422\u001B[0m     fields\u001B[38;5;241m=\u001B[39manndata_fields, setup_method_args\u001B[38;5;241m=\u001B[39msetup_method_args\n\u001B[1;32m    423\u001B[0m )\n\u001B[0;32m--> 424\u001B[0m \u001B[43madata_manager\u001B[49m\u001B[38;5;241;43m.\u001B[39;49m\u001B[43mregister_fields\u001B[49m\u001B[43m(\u001B[49m\u001B[43madata\u001B[49m\u001B[43m,\u001B[49m\u001B[43m \u001B[49m\u001B[38;5;241;43m*\u001B[39;49m\u001B[38;5;241;43m*\u001B[39;49m\u001B[43mkwargs\u001B[49m\u001B[43m)\u001B[49m\n\u001B[1;32m    425\u001B[0m \u001B[38;5;28mcls\u001B[39m\u001B[38;5;241m.\u001B[39mregister_manager(adata_manager)\n\u001B[1;32m    427\u001B[0m keys \u001B[38;5;241m=\u001B[39m categorical_covariate_keys\n",
      "File \u001B[0;32m~/miniconda3/envs/cpa/lib/python3.9/site-packages/scvi/data/_manager.py:174\u001B[0m, in \u001B[0;36mAnnDataManager.register_fields\u001B[0;34m(self, adata, source_registry, **transfer_kwargs)\u001B[0m\n\u001B[1;32m    171\u001B[0m \u001B[38;5;28mself\u001B[39m\u001B[38;5;241m.\u001B[39m_validate_anndata_object(adata)\n\u001B[1;32m    173\u001B[0m \u001B[38;5;28;01mfor\u001B[39;00m field \u001B[38;5;129;01min\u001B[39;00m \u001B[38;5;28mself\u001B[39m\u001B[38;5;241m.\u001B[39mfields:\n\u001B[0;32m--> 174\u001B[0m     \u001B[38;5;28;43mself\u001B[39;49m\u001B[38;5;241;43m.\u001B[39;49m\u001B[43m_add_field\u001B[49m\u001B[43m(\u001B[49m\n\u001B[1;32m    175\u001B[0m \u001B[43m        \u001B[49m\u001B[43mfield\u001B[49m\u001B[38;5;241;43m=\u001B[39;49m\u001B[43mfield\u001B[49m\u001B[43m,\u001B[49m\n\u001B[1;32m    176\u001B[0m \u001B[43m        \u001B[49m\u001B[43madata\u001B[49m\u001B[38;5;241;43m=\u001B[39;49m\u001B[43madata\u001B[49m\u001B[43m,\u001B[49m\n\u001B[1;32m    177\u001B[0m \u001B[43m        \u001B[49m\u001B[43msource_registry\u001B[49m\u001B[38;5;241;43m=\u001B[39;49m\u001B[43msource_registry\u001B[49m\u001B[43m,\u001B[49m\n\u001B[1;32m    178\u001B[0m \u001B[43m        \u001B[49m\u001B[38;5;241;43m*\u001B[39;49m\u001B[38;5;241;43m*\u001B[39;49m\u001B[43mtransfer_kwargs\u001B[49m\u001B[43m,\u001B[49m\n\u001B[1;32m    179\u001B[0m \u001B[43m    \u001B[49m\u001B[43m)\u001B[49m\n\u001B[1;32m    181\u001B[0m \u001B[38;5;66;03m# Save arguments for register_fields.\u001B[39;00m\n\u001B[1;32m    182\u001B[0m \u001B[38;5;28mself\u001B[39m\u001B[38;5;241m.\u001B[39m_source_registry \u001B[38;5;241m=\u001B[39m deepcopy(source_registry)\n",
      "File \u001B[0;32m~/miniconda3/envs/cpa/lib/python3.9/site-packages/scvi/data/_manager.py:209\u001B[0m, in \u001B[0;36mAnnDataManager._add_field\u001B[0;34m(self, field, adata, source_registry, **transfer_kwargs)\u001B[0m\n\u001B[1;32m    206\u001B[0m \u001B[38;5;28;01mif\u001B[39;00m \u001B[38;5;129;01mnot\u001B[39;00m field\u001B[38;5;241m.\u001B[39mis_empty:\n\u001B[1;32m    207\u001B[0m     \u001B[38;5;66;03m# Transfer case: Source registry is used for validation and/or setup.\u001B[39;00m\n\u001B[1;32m    208\u001B[0m     \u001B[38;5;28;01mif\u001B[39;00m source_registry \u001B[38;5;129;01mis\u001B[39;00m \u001B[38;5;129;01mnot\u001B[39;00m \u001B[38;5;28;01mNone\u001B[39;00m:\n\u001B[0;32m--> 209\u001B[0m         field_registry[_constants\u001B[38;5;241m.\u001B[39m_STATE_REGISTRY_KEY] \u001B[38;5;241m=\u001B[39m \u001B[43mfield\u001B[49m\u001B[38;5;241;43m.\u001B[39;49m\u001B[43mtransfer_field\u001B[49m\u001B[43m(\u001B[49m\n\u001B[1;32m    210\u001B[0m \u001B[43m            \u001B[49m\u001B[43msource_registry\u001B[49m\u001B[43m[\u001B[49m\u001B[43m_constants\u001B[49m\u001B[38;5;241;43m.\u001B[39;49m\u001B[43m_FIELD_REGISTRIES_KEY\u001B[49m\u001B[43m]\u001B[49m\u001B[43m[\u001B[49m\n\u001B[1;32m    211\u001B[0m \u001B[43m                \u001B[49m\u001B[43mfield\u001B[49m\u001B[38;5;241;43m.\u001B[39;49m\u001B[43mregistry_key\u001B[49m\n\u001B[1;32m    212\u001B[0m \u001B[43m            \u001B[49m\u001B[43m]\u001B[49m\u001B[43m[\u001B[49m\u001B[43m_constants\u001B[49m\u001B[38;5;241;43m.\u001B[39;49m\u001B[43m_STATE_REGISTRY_KEY\u001B[49m\u001B[43m]\u001B[49m\u001B[43m,\u001B[49m\n\u001B[1;32m    213\u001B[0m \u001B[43m            \u001B[49m\u001B[43madata\u001B[49m\u001B[43m,\u001B[49m\n\u001B[1;32m    214\u001B[0m \u001B[43m            \u001B[49m\u001B[38;5;241;43m*\u001B[39;49m\u001B[38;5;241;43m*\u001B[39;49m\u001B[43mtransfer_kwargs\u001B[49m\u001B[43m,\u001B[49m\n\u001B[1;32m    215\u001B[0m \u001B[43m        \u001B[49m\u001B[43m)\u001B[49m\n\u001B[1;32m    216\u001B[0m     \u001B[38;5;28;01melse\u001B[39;00m:\n\u001B[1;32m    217\u001B[0m         field_registry[_constants\u001B[38;5;241m.\u001B[39m_STATE_REGISTRY_KEY] \u001B[38;5;241m=\u001B[39m field\u001B[38;5;241m.\u001B[39mregister_field(\n\u001B[1;32m    218\u001B[0m             adata\n\u001B[1;32m    219\u001B[0m         )\n",
      "File \u001B[0;32m~/miniconda3/envs/cpa/lib/python3.9/site-packages/scvi/data/fields/_dataframe_field.py:222\u001B[0m, in \u001B[0;36mCategoricalDataFrameField.transfer_field\u001B[0;34m(self, state_registry, adata_target, extend_categories, **kwargs)\u001B[0m\n\u001B[1;32m    220\u001B[0m             mapping \u001B[38;5;241m=\u001B[39m np\u001B[38;5;241m.\u001B[39mconcatenate([mapping, [c]])\n\u001B[1;32m    221\u001B[0m         \u001B[38;5;28;01melse\u001B[39;00m:\n\u001B[0;32m--> 222\u001B[0m             \u001B[38;5;28;01mraise\u001B[39;00m \u001B[38;5;167;01mValueError\u001B[39;00m(\n\u001B[1;32m    223\u001B[0m                 \u001B[38;5;124mf\u001B[39m\u001B[38;5;124m\"\u001B[39m\u001B[38;5;124mCategory \u001B[39m\u001B[38;5;132;01m{\u001B[39;00mc\u001B[38;5;132;01m}\u001B[39;00m\u001B[38;5;124m not found in source registry. \u001B[39m\u001B[38;5;124m\"\u001B[39m\n\u001B[1;32m    224\u001B[0m                 \u001B[38;5;124mf\u001B[39m\u001B[38;5;124m\"\u001B[39m\u001B[38;5;124mCannot transfer setup without `extend_categories = True`.\u001B[39m\u001B[38;5;124m\"\u001B[39m\n\u001B[1;32m    225\u001B[0m             )\n\u001B[1;32m    226\u001B[0m cat_dtype \u001B[38;5;241m=\u001B[39m CategoricalDtype(categories\u001B[38;5;241m=\u001B[39mmapping, ordered\u001B[38;5;241m=\u001B[39m\u001B[38;5;28;01mTrue\u001B[39;00m)\n\u001B[1;32m    227\u001B[0m new_mapping \u001B[38;5;241m=\u001B[39m _make_column_categorical(\n\u001B[1;32m    228\u001B[0m     \u001B[38;5;28mgetattr\u001B[39m(adata_target, \u001B[38;5;28mself\u001B[39m\u001B[38;5;241m.\u001B[39mattr_name),\n\u001B[1;32m    229\u001B[0m     \u001B[38;5;28mself\u001B[39m\u001B[38;5;241m.\u001B[39m_original_attr_key,\n\u001B[1;32m    230\u001B[0m     \u001B[38;5;28mself\u001B[39m\u001B[38;5;241m.\u001B[39mattr_key,\n\u001B[1;32m    231\u001B[0m     categorical_dtype\u001B[38;5;241m=\u001B[39mcat_dtype,\n\u001B[1;32m    232\u001B[0m )\n",
      "\u001B[0;31mValueError\u001B[0m: Category Donor 1_B cells_Donor 1_AMD-070 (hydrochloride) not found in source registry. Cannot transfer setup without `extend_categories = True`."
     ]
    }
   ],
   "execution_count": 64
  },
  {
   "metadata": {
    "ExecuteTime": {
     "end_time": "2024-10-28T19:35:28.523142Z",
     "start_time": "2024-10-28T19:26:27.244171Z"
    }
   },
   "cell_type": "code",
   "source": [
    "model.train(max_epochs=200, #do 2000 for real training\n",
    "            use_gpu=True, \n",
    "            batch_size=512,\n",
    "            plan_kwargs=trainer_params,\n",
    "            save_path=\"../data/cpa\"\n",
    "           )"
   ],
   "id": "9bf0494b5d78d2d6",
   "outputs": [
    {
     "name": "stderr",
     "output_type": "stream",
     "text": [
      "\n",
      "  0%|                                                                             | 0/141 [00:00<?, ?it/s]\u001B[A\n",
      "  1%|▍                                                                    | 1/141 [00:00<00:55,  2.52it/s]\u001B[A\n",
      "  4%|██▉                                                                  | 6/141 [00:00<00:09, 14.96it/s]\u001B[A\n",
      " 17%|███████████▌                                                        | 24/141 [00:00<00:02, 58.26it/s]\u001B[A\n",
      " 29%|███████████████████▊                                                | 41/141 [00:00<00:01, 87.98it/s]\u001B[A\n",
      " 41%|███████████████████████████▌                                       | 58/141 [00:00<00:00, 109.34it/s]\u001B[A\n",
      " 55%|█████████████████████████████████████                              | 78/141 [00:00<00:00, 133.13it/s]\u001B[A\n",
      " 69%|██████████████████████████████████████████████                     | 97/141 [00:01<00:00, 148.93it/s]\u001B[A\n",
      " 82%|██████████████████████████████████████████████████████▎           | 116/141 [00:01<00:00, 159.89it/s]\u001B[A\n",
      "100%|██████████████████████████████████████████████████████████████████| 141/141 [00:01<00:00, 111.77it/s]\u001B[A\n",
      "GPU available: True (cuda), used: True\n",
      "TPU available: False, using: 0 TPU cores\n",
      "IPU available: False, using: 0 IPUs\n",
      "HPU available: False, using: 0 HPUs\n",
      "LOCAL_RANK: 0 - CUDA_VISIBLE_DEVICES: [MIG-b7941885-a733-5316-b58f-ea00b36ec68b]\n"
     ]
    },
    {
     "name": "stdout",
     "output_type": "stream",
     "text": [
      "Epoch 3/200:   1%| | 2/200 [07:39<12:38:13, 229.77s/it, v_num=1, recon=3.05e+3, r2_mean=0.644, adv_loss=5."
     ]
    }
   ],
   "execution_count": 17
  },
  {
   "cell_type": "code",
   "id": "initial_id",
   "metadata": {
    "collapsed": true,
    "ExecuteTime": {
     "end_time": "2024-10-28T18:34:55.234838Z",
     "start_time": "2024-10-28T18:34:55.158984Z"
    }
   },
   "source": [
    "print('Generate predictions', flush=True)\n",
    "model.predict(sc_h5ad)\n",
    "\n",
    "print('Process predictions', flush=True)\n",
    "sc_h5ad.obsm[\"CPA_pred\"] = np.expm1(sc_h5ad.obsm[\"CPA_pred\"])\n",
    "# undo count normalization ot 1e4 by assuming the counts of the DMSO control are 1e4\n",
    "dmso_cells = sc_h5ad.obs['sm_name'] == 'Dimethyl Sulfoxide'\n",
    "dmso_counts = sc_h5ad.layers['counts'][dmso_cells, :]\n",
    "dmso_cell_types = sc_h5ad.obs.loc[dmso_cells, 'cell_type']\n",
    "dmso_total_counts = dmso_counts.sum(axis=1).A1\n",
    "dmso_data = pd.DataFrame({\n",
    "    'cell_type': dmso_cell_types.values,\n",
    "    'total_counts': dmso_total_counts\n",
    "})\n",
    "average_total_counts = dmso_data.groupby('cell_type')['total_counts'].mean()\n",
    "cell_types = sc_h5ad.obs['cell_type']\n",
    "# Map average total counts to each cell based on cell type\n",
    "scaling_factors = cell_types.map(average_total_counts).astype(float) / 1e4  # Divide by normalization factor\n",
    "scaling_factors = scaling_factors.values\n",
    "# Ensure that scaling factors are correctly aligned\n",
    "assert sc_h5ad.obsm[\"CPA_pred\"].shape[0] == scaling_factors.shape[0], \"Mismatch in number of cells\"\n",
    "# Rescale the normalized counts to get the original counts\n",
    "sc_h5ad.obsm[\"CPA_pred\"] = sc_h5ad.obsm[\"CPA_pred\"] * scaling_factors[:, np.newaxis]\n",
    "\n",
    "# overwrite the test set counts with predicted counts\n",
    "test_cells_mask = sc_h5ad.obs[\"split\"] == \"test\"\n",
    "test_cells_indices = np.where(test_cells_mask)[0]\n",
    "sc_h5ad.layers[\"counts\"] = sc_h5ad.layers[\"counts\"].tolil()\n",
    "# Replace counts for test cells\n",
    "sc_h5ad.layers[\"counts\"][test_cells_indices, :] = sc_h5ad.obsm[\"CPA_pred\"][test_cells_indices, :]\n",
    "sc_h5ad.layers[\"counts\"] = sc_h5ad.layers[\"counts\"].tocsr()\n",
    "sc_h5ad.X = sc_h5ad.layers[\"counts\"]\n",
    "del sc_h5ad.layers[\"counts\"]\n",
    "\n",
    "print(\"Write AnnData with original and predicted counts to file\", flush=True)\n",
    "sc_h5ad.write_h5ad(par['output_sc'], compression='gzip')"
   ],
   "outputs": [
    {
     "name": "stdout",
     "output_type": "stream",
     "text": [
      "Reading input files\n"
     ]
    },
    {
     "ename": "FileNotFoundError",
     "evalue": "[Errno 2] Unable to open file (unable to open file: name = '../data/neurips-2023-data/sc_train.h5ad', errno = 2, error message = 'No such file or directory', flags = 0, o_flags = 0)",
     "output_type": "error",
     "traceback": [
      "\u001B[0;31m---------------------------------------------------------------------------\u001B[0m",
      "\u001B[0;31mFileNotFoundError\u001B[0m                         Traceback (most recent call last)",
      "Cell \u001B[0;32mIn[3], line 13\u001B[0m\n\u001B[1;32m     10\u001B[0m \u001B[38;5;66;03m## VIASH END\u001B[39;00m\n\u001B[1;32m     12\u001B[0m \u001B[38;5;28mprint\u001B[39m(\u001B[38;5;124m'\u001B[39m\u001B[38;5;124mReading input files\u001B[39m\u001B[38;5;124m'\u001B[39m, flush\u001B[38;5;241m=\u001B[39m\u001B[38;5;28;01mTrue\u001B[39;00m)\n\u001B[0;32m---> 13\u001B[0m sc_train_h5ad \u001B[38;5;241m=\u001B[39m \u001B[43mad\u001B[49m\u001B[38;5;241;43m.\u001B[39;49m\u001B[43mread_h5ad\u001B[49m\u001B[43m(\u001B[49m\u001B[43mpar\u001B[49m\u001B[43m[\u001B[49m\u001B[38;5;124;43m'\u001B[39;49m\u001B[38;5;124;43msc_train_h5ad\u001B[39;49m\u001B[38;5;124;43m'\u001B[39;49m\u001B[43m]\u001B[49m\u001B[43m)\u001B[49m\n\u001B[1;32m     14\u001B[0m sc_test_h5ad \u001B[38;5;241m=\u001B[39m ad\u001B[38;5;241m.\u001B[39mread_h5ad(par[\u001B[38;5;124m'\u001B[39m\u001B[38;5;124msc_test_h5ad\u001B[39m\u001B[38;5;124m'\u001B[39m])\n\u001B[1;32m     16\u001B[0m \u001B[38;5;66;03m# remove the counts from the test set to prevent leakage\u001B[39;00m\n",
      "File \u001B[0;32m~/miniconda3/envs/open-problems-23-sc-perturbation-prediction/lib/python3.10/site-packages/anndata/_io/h5ad.py:219\u001B[0m, in \u001B[0;36mread_h5ad\u001B[0;34m(filename, backed, as_sparse, as_sparse_fmt, chunk_size)\u001B[0m\n\u001B[1;32m    211\u001B[0m         \u001B[38;5;28;01mraise\u001B[39;00m \u001B[38;5;167;01mNotImplementedError\u001B[39;00m(\n\u001B[1;32m    212\u001B[0m             \u001B[38;5;124m\"\u001B[39m\u001B[38;5;124mCurrently only `X` and `raw/X` can be read as sparse.\u001B[39m\u001B[38;5;124m\"\u001B[39m\n\u001B[1;32m    213\u001B[0m         )\n\u001B[1;32m    215\u001B[0m rdasp \u001B[38;5;241m=\u001B[39m partial(\n\u001B[1;32m    216\u001B[0m     read_dense_as_sparse, sparse_format\u001B[38;5;241m=\u001B[39mas_sparse_fmt, axis_chunk\u001B[38;5;241m=\u001B[39mchunk_size\n\u001B[1;32m    217\u001B[0m )\n\u001B[0;32m--> 219\u001B[0m \u001B[38;5;28;01mwith\u001B[39;00m \u001B[43mh5py\u001B[49m\u001B[38;5;241;43m.\u001B[39;49m\u001B[43mFile\u001B[49m\u001B[43m(\u001B[49m\u001B[43mfilename\u001B[49m\u001B[43m,\u001B[49m\u001B[43m \u001B[49m\u001B[38;5;124;43m\"\u001B[39;49m\u001B[38;5;124;43mr\u001B[39;49m\u001B[38;5;124;43m\"\u001B[39;49m\u001B[43m)\u001B[49m \u001B[38;5;28;01mas\u001B[39;00m f:\n\u001B[1;32m    221\u001B[0m     \u001B[38;5;28;01mdef\u001B[39;00m \u001B[38;5;21mcallback\u001B[39m(func, elem_name: \u001B[38;5;28mstr\u001B[39m, elem, iospec):\n\u001B[1;32m    222\u001B[0m         \u001B[38;5;28;01mif\u001B[39;00m iospec\u001B[38;5;241m.\u001B[39mencoding_type \u001B[38;5;241m==\u001B[39m \u001B[38;5;124m\"\u001B[39m\u001B[38;5;124manndata\u001B[39m\u001B[38;5;124m\"\u001B[39m \u001B[38;5;129;01mor\u001B[39;00m elem_name\u001B[38;5;241m.\u001B[39mendswith(\u001B[38;5;124m\"\u001B[39m\u001B[38;5;124m/\u001B[39m\u001B[38;5;124m\"\u001B[39m):\n",
      "File \u001B[0;32m~/miniconda3/envs/open-problems-23-sc-perturbation-prediction/lib/python3.10/site-packages/h5py/_hl/files.py:567\u001B[0m, in \u001B[0;36mFile.__init__\u001B[0;34m(self, name, mode, driver, libver, userblock_size, swmr, rdcc_nslots, rdcc_nbytes, rdcc_w0, track_order, fs_strategy, fs_persist, fs_threshold, fs_page_size, page_buf_size, min_meta_keep, min_raw_keep, locking, alignment_threshold, alignment_interval, meta_block_size, **kwds)\u001B[0m\n\u001B[1;32m    558\u001B[0m     fapl \u001B[38;5;241m=\u001B[39m make_fapl(driver, libver, rdcc_nslots, rdcc_nbytes, rdcc_w0,\n\u001B[1;32m    559\u001B[0m                      locking, page_buf_size, min_meta_keep, min_raw_keep,\n\u001B[1;32m    560\u001B[0m                      alignment_threshold\u001B[38;5;241m=\u001B[39malignment_threshold,\n\u001B[1;32m    561\u001B[0m                      alignment_interval\u001B[38;5;241m=\u001B[39malignment_interval,\n\u001B[1;32m    562\u001B[0m                      meta_block_size\u001B[38;5;241m=\u001B[39mmeta_block_size,\n\u001B[1;32m    563\u001B[0m                      \u001B[38;5;241m*\u001B[39m\u001B[38;5;241m*\u001B[39mkwds)\n\u001B[1;32m    564\u001B[0m     fcpl \u001B[38;5;241m=\u001B[39m make_fcpl(track_order\u001B[38;5;241m=\u001B[39mtrack_order, fs_strategy\u001B[38;5;241m=\u001B[39mfs_strategy,\n\u001B[1;32m    565\u001B[0m                      fs_persist\u001B[38;5;241m=\u001B[39mfs_persist, fs_threshold\u001B[38;5;241m=\u001B[39mfs_threshold,\n\u001B[1;32m    566\u001B[0m                      fs_page_size\u001B[38;5;241m=\u001B[39mfs_page_size)\n\u001B[0;32m--> 567\u001B[0m     fid \u001B[38;5;241m=\u001B[39m \u001B[43mmake_fid\u001B[49m\u001B[43m(\u001B[49m\u001B[43mname\u001B[49m\u001B[43m,\u001B[49m\u001B[43m \u001B[49m\u001B[43mmode\u001B[49m\u001B[43m,\u001B[49m\u001B[43m \u001B[49m\u001B[43muserblock_size\u001B[49m\u001B[43m,\u001B[49m\u001B[43m \u001B[49m\u001B[43mfapl\u001B[49m\u001B[43m,\u001B[49m\u001B[43m \u001B[49m\u001B[43mfcpl\u001B[49m\u001B[43m,\u001B[49m\u001B[43m \u001B[49m\u001B[43mswmr\u001B[49m\u001B[38;5;241;43m=\u001B[39;49m\u001B[43mswmr\u001B[49m\u001B[43m)\u001B[49m\n\u001B[1;32m    569\u001B[0m \u001B[38;5;28;01mif\u001B[39;00m \u001B[38;5;28misinstance\u001B[39m(libver, \u001B[38;5;28mtuple\u001B[39m):\n\u001B[1;32m    570\u001B[0m     \u001B[38;5;28mself\u001B[39m\u001B[38;5;241m.\u001B[39m_libver \u001B[38;5;241m=\u001B[39m libver\n",
      "File \u001B[0;32m~/miniconda3/envs/open-problems-23-sc-perturbation-prediction/lib/python3.10/site-packages/h5py/_hl/files.py:231\u001B[0m, in \u001B[0;36mmake_fid\u001B[0;34m(name, mode, userblock_size, fapl, fcpl, swmr)\u001B[0m\n\u001B[1;32m    229\u001B[0m     \u001B[38;5;28;01mif\u001B[39;00m swmr \u001B[38;5;129;01mand\u001B[39;00m swmr_support:\n\u001B[1;32m    230\u001B[0m         flags \u001B[38;5;241m|\u001B[39m\u001B[38;5;241m=\u001B[39m h5f\u001B[38;5;241m.\u001B[39mACC_SWMR_READ\n\u001B[0;32m--> 231\u001B[0m     fid \u001B[38;5;241m=\u001B[39m \u001B[43mh5f\u001B[49m\u001B[38;5;241;43m.\u001B[39;49m\u001B[43mopen\u001B[49m\u001B[43m(\u001B[49m\u001B[43mname\u001B[49m\u001B[43m,\u001B[49m\u001B[43m \u001B[49m\u001B[43mflags\u001B[49m\u001B[43m,\u001B[49m\u001B[43m \u001B[49m\u001B[43mfapl\u001B[49m\u001B[38;5;241;43m=\u001B[39;49m\u001B[43mfapl\u001B[49m\u001B[43m)\u001B[49m\n\u001B[1;32m    232\u001B[0m \u001B[38;5;28;01melif\u001B[39;00m mode \u001B[38;5;241m==\u001B[39m \u001B[38;5;124m'\u001B[39m\u001B[38;5;124mr+\u001B[39m\u001B[38;5;124m'\u001B[39m:\n\u001B[1;32m    233\u001B[0m     fid \u001B[38;5;241m=\u001B[39m h5f\u001B[38;5;241m.\u001B[39mopen(name, h5f\u001B[38;5;241m.\u001B[39mACC_RDWR, fapl\u001B[38;5;241m=\u001B[39mfapl)\n",
      "File \u001B[0;32mh5py/_objects.pyx:54\u001B[0m, in \u001B[0;36mh5py._objects.with_phil.wrapper\u001B[0;34m()\u001B[0m\n",
      "File \u001B[0;32mh5py/_objects.pyx:55\u001B[0m, in \u001B[0;36mh5py._objects.with_phil.wrapper\u001B[0;34m()\u001B[0m\n",
      "File \u001B[0;32mh5py/h5f.pyx:106\u001B[0m, in \u001B[0;36mh5py.h5f.open\u001B[0;34m()\u001B[0m\n",
      "\u001B[0;31mFileNotFoundError\u001B[0m: [Errno 2] Unable to open file (unable to open file: name = '../data/neurips-2023-data/sc_train.h5ad', errno = 2, error message = 'No such file or directory', flags = 0, o_flags = 0)"
     ]
    }
   ],
   "execution_count": 3
  },
  {
   "metadata": {},
   "cell_type": "code",
   "outputs": [],
   "execution_count": null,
   "source": "",
   "id": "a2fcbc01f62f0233"
  }
 ],
 "metadata": {
  "kernelspec": {
   "display_name": "cpa",
   "language": "python",
   "name": "cpa"
  },
  "language_info": {
   "codemirror_mode": {
    "name": "ipython",
    "version": 2
   },
   "file_extension": ".py",
   "mimetype": "text/x-python",
   "name": "python",
   "nbconvert_exporter": "python",
   "pygments_lexer": "ipython2",
   "version": "2.7.6"
  }
 },
 "nbformat": 4,
 "nbformat_minor": 5
}
