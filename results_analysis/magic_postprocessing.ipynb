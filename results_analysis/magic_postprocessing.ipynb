{
 "cells": [
  {
   "metadata": {
    "ExecuteTime": {
     "end_time": "2024-05-21T14:22:29.445575Z",
     "start_time": "2024-05-21T14:22:29.443588Z"
    }
   },
   "cell_type": "code",
   "source": [
    "import pandas as pd\n",
    "import os\n",
    "import yaml\n",
    "import numpy as np"
   ],
   "id": "131414af08fa3277",
   "outputs": [],
   "execution_count": 14
  },
  {
   "metadata": {
    "ExecuteTime": {
     "end_time": "2024-05-21T15:20:17.031862Z",
     "start_time": "2024-05-21T15:20:17.026655Z"
    }
   },
   "cell_type": "code",
   "source": [
    "def mrrmse(de_test_X, prediction):\n",
    "    mean_rowwise_rmse = 0\n",
    "    for i in range(de_test_X.shape[0]):\n",
    "        diff = de_test_X[i,] - prediction.iloc[i]\n",
    "        mean_rowwise_rmse += np.sqrt((diff**2).mean())\n",
    "    mean_rowwise_rmse /= de_test.shape[0]\n",
    "    return mean_rowwise_rmse"
   ],
   "id": "686bc77bdab2fbce",
   "outputs": [],
   "execution_count": 62
  },
  {
   "metadata": {
    "ExecuteTime": {
     "end_time": "2024-05-21T15:20:17.529235Z",
     "start_time": "2024-05-21T15:20:17.526509Z"
    }
   },
   "cell_type": "code",
   "source": [
    "def cosine_similarity(de_test_X, prediction):\n",
    "    mean_cosine_similarity = 0\n",
    "    for i in range(de_test_X.shape[0]):\n",
    "        y_i = de_test_X[i,]\n",
    "        y_hat_i = prediction.iloc[i]\n",
    "    \n",
    "        dot_product = np.dot(y_i, y_hat_i)\n",
    "    \n",
    "        norm_y_i = np.linalg.norm(y_i)\n",
    "        norm_y_hat_i = np.linalg.norm(y_hat_i)\n",
    "    \n",
    "        cosine_similarity = dot_product / (norm_y_i * norm_y_hat_i)\n",
    "    \n",
    "        mean_cosine_similarity += cosine_similarity\n",
    "    \n",
    "    mean_cosine_similarity /= de_test_X.shape[0]\n",
    "    return mean_cosine_similarity"
   ],
   "id": "a52307d9aa1ae731",
   "outputs": [],
   "execution_count": 63
  },
  {
   "cell_type": "code",
   "id": "initial_id",
   "metadata": {
    "collapsed": true,
    "ExecuteTime": {
     "end_time": "2024-05-21T15:12:33.672930Z",
     "start_time": "2024-05-21T15:12:33.670829Z"
    }
   },
   "source": [
    "path_to_data = \"/Users/arturszalata/PycharmProjects/task-dge-perturbation-prediction/resources/\"\n",
    "path_to_results = os.path.join(path_to_data, \"runs/run_2024-05-19_01-25-55\")"
   ],
   "outputs": [],
   "execution_count": 47
  },
  {
   "metadata": {
    "ExecuteTime": {
     "end_time": "2024-05-21T15:48:18.485543Z",
     "start_time": "2024-05-21T15:48:17.982503Z"
    }
   },
   "cell_type": "code",
   "source": [
    "de_test_kaggle = pd.read_parquet(os.path.join(path_to_data, \"neurips-2023-kaggle\", \"de_test.parquet\")).set_index(\"id\")\n",
    "de_test = pd.read_parquet(os.path.join(path_to_data, \"neurips-2023-data\", \"de_test.parquet\")).set_index(\"id\")"
   ],
   "id": "e3cce0ef2367ed24",
   "outputs": [],
   "execution_count": 100
  },
  {
   "metadata": {
    "ExecuteTime": {
     "end_time": "2024-05-21T15:12:40.214618Z",
     "start_time": "2024-05-21T15:12:40.188168Z"
    }
   },
   "cell_type": "code",
   "source": [
    "with open(os.path.join(path_to_results, \"score_uns.yaml\"), 'r') as file:\n",
    "    data = yaml.safe_load(file)\n",
    "\n",
    "# Generate paths\n",
    "rows = []\n",
    "for entry in data:\n",
    "    dataset_id = entry['dataset_id']\n",
    "    method_id = entry['method_id']\n",
    "    metric_ids = entry.get('metric_ids', [])\n",
    "    metric_values = entry.get('metric_values', [])\n",
    "    for index, metric_id in enumerate(metric_ids):\n",
    "        metric_value = metric_values[index] if index < len(metric_values) else 'Unknown_value'\n",
    "        path = f\"{dataset_id}.{method_id}.{method_id}.output.parquet\"\n",
    "        rows.append({\n",
    "                'dataset_id': dataset_id,\n",
    "                'method_id': method_id,\n",
    "                'metric_id': metric_id,\n",
    "                'metric_value': metric_value,\n",
    "                'path': path\n",
    "            })"
   ],
   "id": "fe0d847ac0999231",
   "outputs": [],
   "execution_count": 50
  },
  {
   "metadata": {
    "ExecuteTime": {
     "end_time": "2024-05-21T15:01:48.101460Z",
     "start_time": "2024-05-21T15:01:48.096557Z"
    }
   },
   "cell_type": "code",
   "source": "df = pd.DataFrame(rows)",
   "id": "8e0ef39a7a90d615",
   "outputs": [],
   "execution_count": 23
  },
  {
   "metadata": {
    "ExecuteTime": {
     "end_time": "2024-05-21T16:04:10.385189Z",
     "start_time": "2024-05-21T16:04:09.733091Z"
    }
   },
   "cell_type": "code",
   "source": "loaded_output = pd.read_parquet(os.path.join(path_to_results, \"predictions\", \"neurips-2023-kaggle.nn_retraining_with_pseudolabels.nn_retraining_with_pseudolabels.output.parquet\")).set_index(\"id\")",
   "id": "6e6b074567709c1b",
   "outputs": [],
   "execution_count": 111
  },
  {
   "metadata": {
    "ExecuteTime": {
     "end_time": "2024-05-21T16:04:41.396796Z",
     "start_time": "2024-05-21T16:04:41.308759Z"
    }
   },
   "cell_type": "code",
   "source": "cosine_similarity(de_test_kaggle.loc[:,loaded_output.columns].values, loaded_output)",
   "id": "9efc58bd83b85c59",
   "outputs": [
    {
     "data": {
      "text/plain": [
       "0.4159005440304887"
      ]
     },
     "execution_count": 113,
     "metadata": {},
     "output_type": "execute_result"
    }
   ],
   "execution_count": 113
  },
  {
   "metadata": {
    "ExecuteTime": {
     "end_time": "2024-05-21T16:04:44.933390Z",
     "start_time": "2024-05-21T16:04:44.877281Z"
    }
   },
   "cell_type": "code",
   "source": "mrrmse(de_test_kaggle.loc[:,loaded_output.columns].values, loaded_output)",
   "id": "f8be2a1e46397e8e",
   "outputs": [
    {
     "data": {
      "text/plain": [
       "2.1863387286038862"
      ]
     },
     "execution_count": 114,
     "metadata": {},
     "output_type": "execute_result"
    }
   ],
   "execution_count": 114
  },
  {
   "metadata": {
    "ExecuteTime": {
     "end_time": "2024-05-21T15:03:57.547343Z",
     "start_time": "2024-05-21T15:03:57.542397Z"
    }
   },
   "cell_type": "code",
   "source": "df.path.unique()",
   "id": "b342e111c4e36ae8",
   "outputs": [
    {
     "data": {
      "text/plain": [
       "array(['neurips-2023-kaggle.jn_ap_op2.jn_ap_op2.output.parquet',\n",
       "       'neurips-2023-data.sample.sample.output.parquet',\n",
       "       'neurips-2023-kaggle.sample.sample.output.parquet',\n",
       "       'neurips-2023-kaggle.ground_truth.ground_truth.output.parquet',\n",
       "       'neurips-2023-data.zeros.zeros.output.parquet',\n",
       "       'neurips-2023-data.lstm_gru_cnn_ensemble.lstm_gru_cnn_ensemble.output.parquet',\n",
       "       'neurips-2023-data.ground_truth.ground_truth.output.parquet',\n",
       "       'neurips-2023-data.mean_across_compounds.mean_across_compounds.output.parquet',\n",
       "       'neurips-2023-kaggle.mean_outcome.mean_outcome.output.parquet',\n",
       "       'neurips-2023-kaggle.zeros.zeros.output.parquet',\n",
       "       'neurips-2023-kaggle.nn_retraining_with_pseudolabels.nn_retraining_with_pseudolabels.output.parquet',\n",
       "       'neurips-2023-data.mean_across_celltypes.mean_across_celltypes.output.parquet',\n",
       "       'neurips-2023-kaggle.mean_across_celltypes.mean_across_celltypes.output.parquet',\n",
       "       'neurips-2023-data.nn_retraining_with_pseudolabels.nn_retraining_with_pseudolabels.output.parquet',\n",
       "       'neurips-2023-data.jn_ap_op2.jn_ap_op2.output.parquet',\n",
       "       'neurips-2023-data.mean_outcome.mean_outcome.output.parquet',\n",
       "       'neurips-2023-kaggle.mean_across_compounds.mean_across_compounds.output.parquet',\n",
       "       'neurips-2023-kaggle.scape.scape.output.parquet'], dtype=object)"
      ]
     },
     "execution_count": 28,
     "metadata": {},
     "output_type": "execute_result"
    }
   ],
   "execution_count": 28
  },
  {
   "metadata": {},
   "cell_type": "code",
   "outputs": [],
   "execution_count": null,
   "source": "",
   "id": "5a710426d3238a58"
  }
 ],
 "metadata": {
  "kernelspec": {
   "display_name": "Python 3",
   "language": "python",
   "name": "python3"
  },
  "language_info": {
   "codemirror_mode": {
    "name": "ipython",
    "version": 2
   },
   "file_extension": ".py",
   "mimetype": "text/x-python",
   "name": "python",
   "nbconvert_exporter": "python",
   "pygments_lexer": "ipython2",
   "version": "2.7.6"
  }
 },
 "nbformat": 4,
 "nbformat_minor": 5
}
