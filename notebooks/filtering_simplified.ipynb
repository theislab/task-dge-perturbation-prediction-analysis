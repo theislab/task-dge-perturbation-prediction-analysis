{
 "cells": [
  {
   "metadata": {
    "ExecuteTime": {
     "end_time": "2024-04-23T17:59:12.038675Z",
     "start_time": "2024-04-23T17:59:05.688141Z"
    }
   },
   "cell_type": "code",
   "source": "import sctk",
   "id": "7638320154420591",
   "outputs": [],
   "execution_count": 10
  },
  {
   "metadata": {
    "ExecuteTime": {
     "end_time": "2024-04-23T18:51:17.925795Z",
     "start_time": "2024-04-23T18:51:17.921611Z"
    }
   },
   "cell_type": "code",
   "source": [
    "import anndata as ad\n",
    "\n",
    "# starting from the data after clean_sc_counts\n",
    "data_dir = \"/Users/arturszalata/PycharmProjects/task-dge-perturbation-prediction/resources/neurips-2023-data\""
   ],
   "id": "3426fadfd6786d18",
   "outputs": [],
   "execution_count": 29
  },
  {
   "cell_type": "code",
   "id": "initial_id",
   "metadata": {
    "collapsed": true,
    "ExecuteTime": {
     "end_time": "2024-04-23T18:51:38.243335Z",
     "start_time": "2024-04-23T18:51:21.485976Z"
    }
   },
   "source": "sc_counts = ad.read_h5ad(f'{data_dir}/sc_counts_cleaned.h5ad')",
   "outputs": [],
   "execution_count": 30
  },
  {
   "metadata": {
    "ExecuteTime": {
     "end_time": "2024-04-23T18:52:28.108675Z",
     "start_time": "2024-04-23T18:52:18.896440Z"
    }
   },
   "cell_type": "code",
   "source": "sctk.calculate_qc(sc_counts, flags={\"mito\": r\"^MT-\", \"ribo\": r\"^RP[LS]\"})",
   "id": "1eec2cc882105a13",
   "outputs": [],
   "execution_count": 35
  },
  {
   "metadata": {
    "ExecuteTime": {
     "end_time": "2024-04-23T18:53:02.787662Z",
     "start_time": "2024-04-23T18:52:30.354020Z"
    }
   },
   "cell_type": "code",
   "source": "sctk.cellwise_qc(sc_counts)",
   "id": "d56096459756c89d",
   "outputs": [
    {
     "name": "stdout",
     "output_type": "stream",
     "text": [
      "n_counts: [2358.802254718472, 29992.009765625], 299272/301785 passed\n",
      "n_genes: [861.7906960906522, 6238.99853515625], 301402/301785 passed\n",
      "percent_mito: [0.025329280644655228, 19.193623063602075], 301119/301785 passed\n",
      "percent_ribo: [6.9978885607387955, 50.10729574034552], 295113/301785 passed\n",
      "291883/301785 pass\n"
     ]
    }
   ],
   "execution_count": 36
  },
  {
   "metadata": {
    "ExecuteTime": {
     "end_time": "2024-04-23T18:54:52.288800Z",
     "start_time": "2024-04-23T18:54:52.194304Z"
    }
   },
   "cell_type": "code",
   "source": "sc_counts = sc_counts[sc_counts.obs.cell_passed_qc]",
   "id": "97b6b4d07614686b",
   "outputs": [],
   "execution_count": 43
  },
  {
   "metadata": {},
   "cell_type": "code",
   "outputs": [],
   "execution_count": null,
   "source": "",
   "id": "8c3471ce8141b6dd"
  }
 ],
 "metadata": {
  "kernelspec": {
   "display_name": "Python 3",
   "language": "python",
   "name": "python3"
  },
  "language_info": {
   "codemirror_mode": {
    "name": "ipython",
    "version": 2
   },
   "file_extension": ".py",
   "mimetype": "text/x-python",
   "name": "python",
   "nbconvert_exporter": "python",
   "pygments_lexer": "ipython2",
   "version": "2.7.6"
  }
 },
 "nbformat": 4,
 "nbformat_minor": 5
}
