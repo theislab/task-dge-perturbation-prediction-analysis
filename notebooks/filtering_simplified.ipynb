{
 "cells": [
  {
   "metadata": {
    "ExecuteTime": {
     "end_time": "2024-04-24T12:52:18.461263Z",
     "start_time": "2024-04-24T12:52:08.694158Z"
    }
   },
   "cell_type": "code",
   "source": "import sctk",
   "id": "7638320154420591",
   "outputs": [],
   "execution_count": 1
  },
  {
   "metadata": {
    "ExecuteTime": {
     "end_time": "2024-04-24T12:52:18.467034Z",
     "start_time": "2024-04-24T12:52:18.463929Z"
    }
   },
   "cell_type": "code",
   "source": [
    "import anndata as ad\n",
    "\n",
    "# starting from the data after clean_sc_counts\n",
    "data_dir = \"/Users/arturszalata/PycharmProjects/task-dge-perturbation-prediction/resources/neurips-2023-data\""
   ],
   "id": "3426fadfd6786d18",
   "outputs": [],
   "execution_count": 2
  },
  {
   "cell_type": "code",
   "id": "initial_id",
   "metadata": {
    "collapsed": true,
    "ExecuteTime": {
     "end_time": "2024-04-24T13:48:29.934491Z",
     "start_time": "2024-04-24T13:48:12.428310Z"
    }
   },
   "source": "sc_counts = ad.read_h5ad(f'{data_dir}/sc_counts_cleaned.h5ad')",
   "outputs": [],
   "execution_count": 61
  },
  {
   "metadata": {
    "ExecuteTime": {
     "end_time": "2024-04-24T13:48:45.631673Z",
     "start_time": "2024-04-24T13:48:29.935530Z"
    }
   },
   "cell_type": "code",
   "source": "sctk.calculate_qc(sc_counts, flags={\"mito\": r\"^MT-\", \"ribo\": r\"^RP[LS]\"})",
   "id": "1eec2cc882105a13",
   "outputs": [],
   "execution_count": 62
  },
  {
   "metadata": {
    "ExecuteTime": {
     "end_time": "2024-04-24T13:49:16.784696Z",
     "start_time": "2024-04-24T13:48:45.633089Z"
    }
   },
   "cell_type": "code",
   "source": "sctk.cellwise_qc(sc_counts)",
   "id": "d56096459756c89d",
   "outputs": [
    {
     "name": "stdout",
     "output_type": "stream",
     "text": [
      "n_counts: [2358.802254718472, 29992.009765625], 299272/301785 passed\n",
      "n_genes: [861.7906960906522, 6238.99853515625], 301402/301785 passed\n",
      "percent_mito: [0.025329280644655228, 19.193623063602075], 301119/301785 passed\n",
      "percent_ribo: [6.9978885607387955, 50.10729574034552], 295113/301785 passed\n",
      "291883/301785 pass\n"
     ]
    }
   ],
   "execution_count": 63
  },
  {
   "metadata": {
    "ExecuteTime": {
     "end_time": "2024-04-24T13:49:16.931087Z",
     "start_time": "2024-04-24T13:49:16.796625Z"
    }
   },
   "cell_type": "code",
   "source": "sc_counts = sc_counts[sc_counts.obs.cell_passed_qc]",
   "id": "97b6b4d07614686b",
   "outputs": [],
   "execution_count": 64
  },
  {
   "metadata": {
    "ExecuteTime": {
     "end_time": "2024-04-24T13:49:23.571364Z",
     "start_time": "2024-04-24T13:49:16.934390Z"
    }
   },
   "cell_type": "code",
   "source": "sc_counts.obs['cell_type'] = sc_counts.obs['cell_type'].apply(lambda x: 'T cells' if  x.startswith(\"T \") else x)",
   "id": "38022afa3453e587",
   "outputs": [
    {
     "name": "stderr",
     "output_type": "stream",
     "text": [
      "/var/folders/98/9ygjwkpd12d1vxydfprn1st00000gp/T/ipykernel_1812/574505899.py:1: ImplicitModificationWarning: Trying to modify attribute `.obs` of view, initializing view as actual.\n",
      "  sc_counts.obs['cell_type'] = sc_counts.obs['cell_type'].apply(lambda x: 'T cells' if  x.startswith(\"T \") else x)\n"
     ]
    }
   ],
   "execution_count": 65
  },
  {
   "metadata": {
    "ExecuteTime": {
     "end_time": "2024-04-24T13:49:23.632161Z",
     "start_time": "2024-04-24T13:49:23.573244Z"
    }
   },
   "cell_type": "code",
   "source": "sc_counts.obs[\"library_well\"] = sc_counts.obs[\"library_id\"].astype(str) + \"_\" + sc_counts.obs[\"well\"].astype(str)",
   "id": "879dc2d79ca053b9",
   "outputs": [],
   "execution_count": 66
  },
  {
   "metadata": {
    "ExecuteTime": {
     "end_time": "2024-04-24T13:49:23.669091Z",
     "start_time": "2024-04-24T13:49:23.632979Z"
    }
   },
   "cell_type": "code",
   "source": "sc_counts[sc_counts.obs[\"library_well\"].map(sc_counts.obs[\"library_well\"].value_counts()) < 200].shape[0]",
   "id": "33b54177a90990c1",
   "outputs": [
    {
     "data": {
      "text/plain": [
       "719"
      ]
     },
     "execution_count": 67,
     "metadata": {},
     "output_type": "execute_result"
    }
   ],
   "execution_count": 67
  },
  {
   "metadata": {
    "ExecuteTime": {
     "end_time": "2024-04-24T13:49:23.757127Z",
     "start_time": "2024-04-24T13:49:23.670016Z"
    }
   },
   "cell_type": "code",
   "source": [
    "# remove samples that belong to library_well groups with less than 200 cells\n",
    "sc_counts = sc_counts[sc_counts.obs[\"library_well\"].map(sc_counts.obs[\"library_well\"].value_counts()) >= 200]"
   ],
   "id": "2f229a6395e73b6d",
   "outputs": [],
   "execution_count": 68
  },
  {
   "metadata": {
    "ExecuteTime": {
     "end_time": "2024-04-24T13:49:23.760476Z",
     "start_time": "2024-04-24T13:49:23.757886Z"
    }
   },
   "cell_type": "code",
   "source": "sc_counts.shape[1]",
   "id": "6fc88254b50a9dc7",
   "outputs": [
    {
     "data": {
      "text/plain": [
       "21265"
      ]
     },
     "execution_count": 69,
     "metadata": {},
     "output_type": "execute_result"
    }
   ],
   "execution_count": 69
  },
  {
   "metadata": {
    "ExecuteTime": {
     "end_time": "2024-04-24T13:49:23.764458Z",
     "start_time": "2024-04-24T13:49:23.762770Z"
    }
   },
   "cell_type": "code",
   "source": "# filter out genes expressed in less than 100 cells per plate",
   "id": "e826fbf97c058c1b",
   "outputs": [],
   "execution_count": 70
  },
  {
   "metadata": {
    "ExecuteTime": {
     "end_time": "2024-04-24T13:49:53.508378Z",
     "start_time": "2024-04-24T13:49:23.765257Z"
    }
   },
   "cell_type": "code",
   "source": [
    "import numpy as np\n",
    "import pandas as pd\n",
    "\n",
    "plates = sc_counts.obs['plate_name'].unique()\n",
    "\n",
    "# Step 2: Initialize a DataFrame to store counts\n",
    "gene_counts_per_plate = pd.DataFrame(index=sc_counts.var_names, columns=plates, dtype=int)\n",
    "\n",
    "# Step 3: Iterate over each plate and calculate expression counts\n",
    "for plate in plates:\n",
    "    # Subset the AnnData object for the current plate\n",
    "    subset = sc_counts[sc_counts.obs['plate_name'] == plate]\n",
    "    \n",
    "    # Calculate expression counts (genes x cells > 0)\n",
    "    expressed_genes = (subset.X > 0).sum(axis=0)\n",
    "    \n",
    "    # Check if the result needs conversion from sparse matrix format\n",
    "    if isinstance(expressed_genes, np.matrix):\n",
    "        expressed_genes = np.array(expressed_genes).flatten()\n",
    "    \n",
    "    # Store the counts in the DataFrame\n",
    "    gene_counts_per_plate[plate] = expressed_genes\n",
    "\n",
    "# Step 4: Aggregate counts across plates (max or sum based on the requirement)\n",
    "# We use `max` here to find if any gene meets the criteria in at least one plate\n",
    "max_counts = gene_counts_per_plate.max(axis=1)\n",
    "\n",
    "# Step 5: Create a mask for genes to keep (genes expressed in at least 100 cells in any plate)\n",
    "genes_to_keep = max_counts >= 100\n",
    "\n",
    "# Filter the AnnData object to keep only these genes\n",
    "sc_counts = sc_counts[:, genes_to_keep]"
   ],
   "id": "47f0ee97ca6afacb",
   "outputs": [],
   "execution_count": 71
  },
  {
   "metadata": {
    "ExecuteTime": {
     "end_time": "2024-04-24T13:49:53.513060Z",
     "start_time": "2024-04-24T13:49:53.509601Z"
    }
   },
   "cell_type": "code",
   "source": "sc_counts.shape[1]",
   "id": "19a928e220703462",
   "outputs": [
    {
     "data": {
      "text/plain": [
       "18110"
      ]
     },
     "execution_count": 72,
     "metadata": {},
     "output_type": "execute_result"
    }
   ],
   "execution_count": 72
  },
  {
   "metadata": {
    "ExecuteTime": {
     "end_time": "2024-04-24T13:50:01.188124Z",
     "start_time": "2024-04-24T13:49:53.513948Z"
    }
   },
   "cell_type": "code",
   "source": "del sc_counts.uns",
   "id": "dde148cdce6f05dd",
   "outputs": [],
   "execution_count": 73
  },
  {
   "metadata": {
    "ExecuteTime": {
     "end_time": "2024-04-24T13:53:57.236787Z",
     "start_time": "2024-04-24T13:53:57.114253Z"
    }
   },
   "cell_type": "code",
   "source": [
    "# to be replaced with the current filtering code\n",
    "sc_counts.obs['plate_well_cell_type'] = sc_counts.obs['plate_name'].astype('str') \\\n",
    "    + '_' + sc_counts.obs['well'].astype('str') \\\n",
    "    + '_' + sc_counts.obs['cell_type'].astype('str')\n",
    "sc_counts.obs['plate_well_cell_type'] = sc_counts.obs['plate_well_cell_type'].astype('category')"
   ],
   "id": "8d05f861fe4efeff",
   "outputs": [],
   "execution_count": 82
  },
  {
   "metadata": {
    "ExecuteTime": {
     "end_time": "2024-04-24T13:54:18.173524Z",
     "start_time": "2024-04-24T13:54:18.166937Z"
    }
   },
   "cell_type": "code",
   "source": "(sc_counts.obs[\"plate_well_cell_type\"].value_counts() < 10).sum()",
   "id": "7eeeb31c2a7147f8",
   "outputs": [
    {
     "data": {
      "text/plain": [
       "40"
      ]
     },
     "execution_count": 85,
     "metadata": {},
     "output_type": "execute_result"
    }
   ],
   "execution_count": 85
  },
  {
   "metadata": {
    "ExecuteTime": {
     "end_time": "2024-04-24T13:54:21.796754Z",
     "start_time": "2024-04-24T13:54:21.784930Z"
    }
   },
   "cell_type": "code",
   "source": "sc_counts[sc_counts.obs[\"plate_well_cell_type\"].map(sc_counts.obs[\"plate_well_cell_type\"].value_counts()) < 10].shape[0]",
   "id": "ffc1874851797077",
   "outputs": [
    {
     "data": {
      "text/plain": [
       "167"
      ]
     },
     "execution_count": 86,
     "metadata": {},
     "output_type": "execute_result"
    }
   ],
   "execution_count": 86
  },
  {
   "metadata": {
    "ExecuteTime": {
     "end_time": "2024-04-24T13:54:30.209559Z",
     "start_time": "2024-04-24T13:54:30.126561Z"
    }
   },
   "cell_type": "code",
   "source": "sc_counts = sc_counts[sc_counts.obs[\"plate_well_cell_type\"].map(sc_counts.obs[\"plate_well_cell_type\"].value_counts()) > 10]",
   "id": "2e61bbdc3a029c6c",
   "outputs": [],
   "execution_count": 87
  },
  {
   "metadata": {
    "ExecuteTime": {
     "end_time": "2024-04-24T13:56:13.946073Z",
     "start_time": "2024-04-24T13:56:06.399156Z"
    }
   },
   "cell_type": "code",
   "source": "sc_counts.obs = sc_counts.obs.drop(columns=['n_counts', 'log1p_n_counts', 'n_genes', 'log1p_n_genes', 'percent_mito', 'n_counts_mito', 'percent_ribo', 'n_counts_ribo', 'percent_top50', 'cell_passed_qc'])",
   "id": "ef213962a8df5c09",
   "outputs": [],
   "execution_count": 91
  },
  {
   "metadata": {
    "ExecuteTime": {
     "end_time": "2024-04-24T13:57:18.533268Z",
     "start_time": "2024-04-24T13:57:18.526798Z"
    }
   },
   "cell_type": "code",
   "source": "sc_counts.var = sc_counts.var.drop(columns=['n_counts', 'n_cells'])",
   "id": "23ec8152b5891e1a",
   "outputs": [],
   "execution_count": 97
  },
  {
   "metadata": {
    "ExecuteTime": {
     "end_time": "2024-04-24T13:58:52.996385Z",
     "start_time": "2024-04-24T13:58:52.993787Z"
    }
   },
   "cell_type": "code",
   "source": "del sc_counts.obsm[\"X_pca\"]",
   "id": "142a875f22cb6308",
   "outputs": [],
   "execution_count": 109
  },
  {
   "metadata": {
    "ExecuteTime": {
     "end_time": "2024-04-24T13:59:03.599941Z",
     "start_time": "2024-04-24T13:59:03.597487Z"
    }
   },
   "cell_type": "code",
   "source": "del sc_counts.obsm[\"X_umap\"]",
   "id": "d36ea9441e3d8d67",
   "outputs": [],
   "execution_count": 110
  },
  {
   "metadata": {
    "ExecuteTime": {
     "end_time": "2024-04-24T14:00:56.504264Z",
     "start_time": "2024-04-24T13:59:40.078650Z"
    }
   },
   "cell_type": "code",
   "source": "sc_counts.write_h5ad(\"../data/sc_counts_filtered.h5ad\", compression='gzip')",
   "id": "f967d9d43b349c5",
   "outputs": [],
   "execution_count": 113
  },
  {
   "metadata": {},
   "cell_type": "code",
   "outputs": [],
   "execution_count": null,
   "source": "",
   "id": "9dbd91f6bc5cbba0"
  }
 ],
 "metadata": {
  "kernelspec": {
   "display_name": "Python 3",
   "language": "python",
   "name": "python3"
  },
  "language_info": {
   "codemirror_mode": {
    "name": "ipython",
    "version": 2
   },
   "file_extension": ".py",
   "mimetype": "text/x-python",
   "name": "python",
   "nbconvert_exporter": "python",
   "pygments_lexer": "ipython2",
   "version": "2.7.6"
  }
 },
 "nbformat": 4,
 "nbformat_minor": 5
}
