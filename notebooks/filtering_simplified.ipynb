{
 "cells": [
  {
   "metadata": {
    "ExecuteTime": {
     "end_time": "2024-04-23T17:59:12.038675Z",
     "start_time": "2024-04-23T17:59:05.688141Z"
    }
   },
   "cell_type": "code",
   "source": "import sctk",
   "id": "7638320154420591",
   "outputs": [],
   "execution_count": 10
  },
  {
   "metadata": {
    "ExecuteTime": {
     "end_time": "2024-04-23T18:51:17.925795Z",
     "start_time": "2024-04-23T18:51:17.921611Z"
    }
   },
   "cell_type": "code",
   "source": [
    "import anndata as ad\n",
    "\n",
    "# starting from the data after clean_sc_counts\n",
    "data_dir = \"/Users/arturszalata/PycharmProjects/task-dge-perturbation-prediction/resources/neurips-2023-data\""
   ],
   "id": "3426fadfd6786d18",
   "outputs": [],
   "execution_count": 29
  },
  {
   "cell_type": "code",
   "id": "initial_id",
   "metadata": {
    "collapsed": true,
    "ExecuteTime": {
     "end_time": "2024-04-23T19:15:26.880276Z",
     "start_time": "2024-04-23T19:15:08.112388Z"
    }
   },
   "source": "sc_counts = ad.read_h5ad(f'{data_dir}/sc_counts_cleaned.h5ad')",
   "outputs": [],
   "execution_count": 57
  },
  {
   "metadata": {
    "ExecuteTime": {
     "end_time": "2024-04-23T18:52:28.108675Z",
     "start_time": "2024-04-23T18:52:18.896440Z"
    }
   },
   "cell_type": "code",
   "source": "sctk.calculate_qc(sc_counts, flags={\"mito\": r\"^MT-\", \"ribo\": r\"^RP[LS]\"})",
   "id": "1eec2cc882105a13",
   "outputs": [],
   "execution_count": 35
  },
  {
   "metadata": {
    "ExecuteTime": {
     "end_time": "2024-04-23T18:53:02.787662Z",
     "start_time": "2024-04-23T18:52:30.354020Z"
    }
   },
   "cell_type": "code",
   "source": "sctk.cellwise_qc(sc_counts)",
   "id": "d56096459756c89d",
   "outputs": [
    {
     "name": "stdout",
     "output_type": "stream",
     "text": [
      "n_counts: [2358.802254718472, 29992.009765625], 299272/301785 passed\n",
      "n_genes: [861.7906960906522, 6238.99853515625], 301402/301785 passed\n",
      "percent_mito: [0.025329280644655228, 19.193623063602075], 301119/301785 passed\n",
      "percent_ribo: [6.9978885607387955, 50.10729574034552], 295113/301785 passed\n",
      "291883/301785 pass\n"
     ]
    }
   ],
   "execution_count": 36
  },
  {
   "metadata": {
    "ExecuteTime": {
     "end_time": "2024-04-23T18:54:52.288800Z",
     "start_time": "2024-04-23T18:54:52.194304Z"
    }
   },
   "cell_type": "code",
   "source": "sc_counts = sc_counts[sc_counts.obs.cell_passed_qc]",
   "id": "97b6b4d07614686b",
   "outputs": [],
   "execution_count": 43
  },
  {
   "metadata": {
    "ExecuteTime": {
     "end_time": "2024-04-23T19:03:43.405597Z",
     "start_time": "2024-04-23T19:03:36.428048Z"
    }
   },
   "cell_type": "code",
   "source": "sc_counts.obs['cell_type'] = sc_counts.obs['cell_type'].apply(lambda x: 'T cells' if 'T cells' in x else x)",
   "id": "38022afa3453e587",
   "outputs": [
    {
     "name": "stderr",
     "output_type": "stream",
     "text": [
      "/var/folders/98/9ygjwkpd12d1vxydfprn1st00000gp/T/ipykernel_80691/4188281325.py:1: ImplicitModificationWarning: Trying to modify attribute `.obs` of view, initializing view as actual.\n",
      "  sc_counts.obs['cell_type'] = sc_counts.obs['cell_type'].apply(lambda x: 'T cells' if 'T cells' in x else x)\n"
     ]
    }
   ],
   "execution_count": 51
  },
  {
   "metadata": {
    "ExecuteTime": {
     "end_time": "2024-04-23T20:22:47.306792Z",
     "start_time": "2024-04-23T20:22:47.146413Z"
    }
   },
   "cell_type": "code",
   "source": [
    "sc_counts.obs[\"library_well\"] = sc_counts.obs[\"library_id\"].astype(str) + \"_\" + sc_counts.obs[\"well\"].astype(str)\n",
    "# remove samples that belong to library_well groups with less than 200 cells\n",
    "sc_counts = sc_counts[sc_counts.obs[\"library_well\"].map(sc_counts.obs[\"library_well\"].value_counts()) >= 200]"
   ],
   "id": "2f229a6395e73b6d",
   "outputs": [],
   "execution_count": 149
  },
  {
   "metadata": {},
   "cell_type": "code",
   "outputs": [],
   "execution_count": null,
   "source": "# filter out genes expressed in less than 100 cells per plate",
   "id": "e826fbf97c058c1b"
  },
  {
   "metadata": {
    "ExecuteTime": {
     "end_time": "2024-04-23T20:34:30.006140Z",
     "start_time": "2024-04-23T20:34:23.618211Z"
    }
   },
   "cell_type": "code",
   "source": [
    "import numpy as np\n",
    "import pandas as pd\n",
    "\n",
    "plates = sc_counts.obs['plate_name'].unique()\n",
    "\n",
    "# Step 2: Initialize a DataFrame to store counts\n",
    "gene_counts_per_plate = pd.DataFrame(index=sc_counts.var_names, columns=plates, dtype=int)\n",
    "\n",
    "# Step 3: Iterate over each plate and calculate expression counts\n",
    "for plate in plates:\n",
    "    # Subset the AnnData object for the current plate\n",
    "    subset = sc_counts[sc_counts.obs['plate_name'] == plate]\n",
    "    \n",
    "    # Calculate expression counts (genes x cells > 0)\n",
    "    expressed_genes = (subset.X > 0).sum(axis=0)\n",
    "    \n",
    "    # Check if the result needs conversion from sparse matrix format\n",
    "    if isinstance(expressed_genes, np.matrix):\n",
    "        expressed_genes = np.array(expressed_genes).flatten()\n",
    "    \n",
    "    # Store the counts in the DataFrame\n",
    "    gene_counts_per_plate[plate] = expressed_genes\n",
    "\n",
    "# Step 4: Aggregate counts across plates (max or sum based on the requirement)\n",
    "# We use `max` here to find if any gene meets the criteria in at least one plate\n",
    "max_counts = gene_counts_per_plate.max(axis=1)\n",
    "\n",
    "# Step 5: Create a mask for genes to keep (genes expressed in at least 100 cells in any plate)\n",
    "genes_to_keep = max_counts >= 100\n",
    "\n",
    "# Filter the AnnData object to keep only these genes\n",
    "sc_counts = sc_counts[:, genes_to_keep]"
   ],
   "id": "47f0ee97ca6afacb",
   "outputs": [],
   "execution_count": 162
  },
  {
   "metadata": {
    "ExecuteTime": {
     "end_time": "2024-04-23T20:37:09.286358Z",
     "start_time": "2024-04-23T20:37:00.733774Z"
    }
   },
   "cell_type": "code",
   "source": "del sc_counts.uns",
   "id": "dde148cdce6f05dd",
   "outputs": [],
   "execution_count": 166
  },
  {
   "metadata": {
    "ExecuteTime": {
     "end_time": "2024-04-23T20:37:11.928091Z",
     "start_time": "2024-04-23T20:37:09.288808Z"
    }
   },
   "cell_type": "code",
   "source": "sc_counts.write_h5ad(\"../data/sc_counts_filtered.h5ad\")",
   "id": "f967d9d43b349c5",
   "outputs": [],
   "execution_count": 167
  },
  {
   "metadata": {},
   "cell_type": "code",
   "outputs": [],
   "execution_count": null,
   "source": "",
   "id": "9dbd91f6bc5cbba0"
  }
 ],
 "metadata": {
  "kernelspec": {
   "display_name": "Python 3",
   "language": "python",
   "name": "python3"
  },
  "language_info": {
   "codemirror_mode": {
    "name": "ipython",
    "version": 2
   },
   "file_extension": ".py",
   "mimetype": "text/x-python",
   "name": "python",
   "nbconvert_exporter": "python",
   "pygments_lexer": "ipython2",
   "version": "2.7.6"
  }
 },
 "nbformat": 4,
 "nbformat_minor": 5
}
