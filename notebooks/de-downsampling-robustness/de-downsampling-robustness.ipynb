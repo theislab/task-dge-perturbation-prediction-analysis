{
 "cells": [
  {
   "cell_type": "code",
   "execution_count": 2,
   "metadata": {
    "execution": {
     "iopub.execute_input": "2024-05-17T20:41:33.214181Z",
     "iopub.status.busy": "2024-05-17T20:41:33.213811Z",
     "iopub.status.idle": "2024-05-17T20:41:35.170513Z",
     "shell.execute_reply": "2024-05-17T20:41:35.169892Z",
     "shell.execute_reply.started": "2024-05-17T20:41:33.214155Z"
    }
   },
   "outputs": [],
   "source": [
    "import os\n",
    "import subprocess\n",
    "\n",
    "# sc verse\n",
    "import anndata as ad\n",
    "\n",
    "# data science toolkit\n",
    "import numpy as np\n",
    "import scipy\n",
    "import pandas as pd\n",
    "import sklearn\n",
    "import sklearn.metrics\n",
    "import sklearn.decomposition\n",
    "\n",
    "\n",
    "# plotting\n",
    "import matplotlib.pyplot as plt\n",
    "import seaborn as sns"
   ]
  },
  {
   "cell_type": "markdown",
   "metadata": {},
   "source": [
    "## Loading data"
   ]
  },
  {
   "cell_type": "code",
   "execution_count": 4,
   "metadata": {
    "execution": {
     "iopub.execute_input": "2024-05-17T20:41:57.895080Z",
     "iopub.status.busy": "2024-05-17T20:41:57.894678Z",
     "iopub.status.idle": "2024-05-17T20:43:31.356880Z",
     "shell.execute_reply": "2024-05-17T20:43:31.356138Z",
     "shell.execute_reply.started": "2024-05-17T20:41:57.895053Z"
    },
    "tags": []
   },
   "outputs": [
    {
     "name": "stdout",
     "output_type": "stream",
     "text": [
      "download: s3://openproblems-bio/public/neurips-2023-competition/sc_counts.h5ad to ./sc_counts.h5ad\n",
      "download: s3://openproblems-bio/public/neurips-2023-competition/sc_counts_reannotated_with_counts.h5ad to ./sc_counts_reannotated_with_counts.h5ad\n"
     ]
    },
    {
     "data": {
      "text/plain": [
       "CompletedProcess(args=['aws', 's3', 'cp', 's3://openproblems-bio/public/neurips-2023-competition/sc_counts_reannotated_with_counts.h5ad', '.'], returncode=0)"
      ]
     },
     "execution_count": 4,
     "metadata": {},
     "output_type": "execute_result"
    }
   ],
   "source": [
    "data_s3_path = 's3://openproblems-bio/public/neurips-2023-competition'\n",
    "\n",
    "filename = 'sc_counts.h5ad'\n",
    "subprocess.run(['aws', 's3', 'cp', os.path.join(data_s3_path, filename), '.'])\n",
    "\n",
    "filename = 'sc_counts_reannotated_with_counts.h5ad'\n",
    "subprocess.run(['aws', 's3', 'cp', os.path.join(data_s3_path, filename), '.'])"
   ]
  },
  {
   "cell_type": "code",
   "execution_count": 5,
   "metadata": {
    "execution": {
     "iopub.execute_input": "2024-05-17T20:44:07.899156Z",
     "iopub.status.busy": "2024-05-17T20:44:07.898747Z",
     "iopub.status.idle": "2024-05-17T20:45:11.638931Z",
     "shell.execute_reply": "2024-05-17T20:45:11.638298Z",
     "shell.execute_reply.started": "2024-05-17T20:44:07.899125Z"
    }
   },
   "outputs": [],
   "source": [
    "counts_adata = ad.read_h5ad('sc_counts.h5ad')\n",
    "counts_reannotated_adata = ad.read_h5ad('sc_counts_reannotated_with_counts.h5ad')"
   ]
  },
  {
   "cell_type": "code",
   "execution_count": 8,
   "metadata": {
    "execution": {
     "iopub.execute_input": "2024-05-17T20:45:26.844995Z",
     "iopub.status.busy": "2024-05-17T20:45:26.844609Z",
     "iopub.status.idle": "2024-05-17T20:45:26.849045Z",
     "shell.execute_reply": "2024-05-17T20:45:26.848531Z",
     "shell.execute_reply.started": "2024-05-17T20:45:26.844970Z"
    },
    "tags": []
   },
   "outputs": [
    {
     "data": {
      "text/plain": [
       "AnnData object with n_obs × n_vars = 301785 × 21265\n",
       "    obs: 'dose_uM', 'timepoint_hr', 'raw_cell_id', 'hashtag_id', 'well', 'container_format', 'row', 'col', 'plate_name', 'cell_id', 'cell_type', 'split', 'donor_id', 'sm_name'\n",
       "    obsm: 'HTO_clr', 'X_pca', 'X_umap', 'protein_counts'\n",
       "    layers: 'counts'"
      ]
     },
     "execution_count": 8,
     "metadata": {},
     "output_type": "execute_result"
    }
   ],
   "source": [
    "counts_adata"
   ]
  },
  {
   "cell_type": "code",
   "execution_count": 9,
   "metadata": {
    "execution": {
     "iopub.execute_input": "2024-05-17T20:45:28.505156Z",
     "iopub.status.busy": "2024-05-17T20:45:28.504775Z",
     "iopub.status.idle": "2024-05-17T20:45:28.509145Z",
     "shell.execute_reply": "2024-05-17T20:45:28.508652Z",
     "shell.execute_reply.started": "2024-05-17T20:45:28.505131Z"
    },
    "tags": []
   },
   "outputs": [
    {
     "data": {
      "text/plain": [
       "AnnData object with n_obs × n_vars = 298087 × 21265\n",
       "    obs: 'dose_uM', 'timepoint_hr', 'well', 'row', 'col', 'plate_name', 'cell_id', 'cell_type', 'split', 'donor_id', 'sm_name', 'control', 'SMILES', 'sm_lincs_id', 'library_id', 'leiden_res1', 'group', 'cell_type_orig', 'plate_well_celltype_reannotated', 'cell_count_by_well_celltype', 'cell_count_by_plate_well'\n",
       "    var: 'highly_variable', 'means', 'dispersions', 'dispersions_norm'\n",
       "    uns: 'cell_type_colors', 'celltypist_celltype_colors', 'donor_id_colors', 'hvg', 'leiden_res1_colors', 'log1p', 'neighbors', 'over_clustering', 'rank_genes_groups'\n",
       "    obsm: 'HTO_clr', 'X_pca', 'X_umap', 'protein_counts'\n",
       "    obsp: 'connectivities', 'distances'"
      ]
     },
     "execution_count": 9,
     "metadata": {},
     "output_type": "execute_result"
    }
   ],
   "source": [
    "counts_reannotated_adata"
   ]
  },
  {
   "cell_type": "code",
   "execution_count": null,
   "metadata": {},
   "outputs": [],
   "source": []
  }
 ],
 "metadata": {
  "kernelspec": {
   "display_name": "saturn (Python 3)",
   "language": "python",
   "name": "python3"
  },
  "language_info": {
   "codemirror_mode": {
    "name": "ipython",
    "version": 3
   },
   "file_extension": ".py",
   "mimetype": "text/x-python",
   "name": "python",
   "nbconvert_exporter": "python",
   "pygments_lexer": "ipython3",
   "version": "3.9.13"
  }
 },
 "nbformat": 4,
 "nbformat_minor": 4
}
