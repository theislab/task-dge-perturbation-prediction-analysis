{
 "cells": [
  {
   "metadata": {
    "ExecuteTime": {
     "end_time": "2024-08-15T14:48:21.127269Z",
     "start_time": "2024-08-15T14:48:18.739457Z"
    }
   },
   "cell_type": "code",
   "source": [
    "import pandas as pd\n",
    "import numpy as np\n",
    "import anndata as ad\n",
    "from sklearn.metrics import pairwise\n",
    "import itertools\n",
    "import seaborn as sns\n",
    "import matplotlib.pyplot as plt"
   ],
   "id": "751bd5c59ecab559",
   "outputs": [],
   "execution_count": 2
  },
  {
   "cell_type": "code",
   "id": "initial_id",
   "metadata": {
    "collapsed": true,
    "ExecuteTime": {
     "end_time": "2024-08-15T14:48:38.974863Z",
     "start_time": "2024-08-15T14:48:28.251638Z"
    }
   },
   "source": [
    "# note that this notebook requires de_per_donor that needs to be generated with run_limma.R. run_limma.R requires pseudobulk_cleaned.h5ad, which is generated using the corresponding script from https://github.com/openproblems-bio/task_perturbation_prediction repository\n",
    "!aws s3 cp s3://openproblems-bio/public/neurips-2023-competition/workflow-resources/neurips-2023-data/de_test.h5ad ../data/de_test.h5ad --no-sign-request"
   ],
   "outputs": [
    {
     "name": "stdout",
     "output_type": "stream",
     "text": [
      "download: s3://openproblems-bio/public/neurips-2023-competition/workflow-resources/neurips-2023-data/de_test.h5ad to ../data/de_test.h5ad\r\n"
     ]
    }
   ],
   "execution_count": 5
  },
  {
   "metadata": {
    "ExecuteTime": {
     "end_time": "2024-08-15T14:48:38.979140Z",
     "start_time": "2024-08-15T14:48:38.976104Z"
    }
   },
   "cell_type": "code",
   "source": "data_path = \"../data/neurips-2023-data/de_per_donor.h5ad\"",
   "id": "6e39abb5c0afc756",
   "outputs": [],
   "execution_count": 6
  },
  {
   "metadata": {
    "ExecuteTime": {
     "end_time": "2024-08-15T14:48:40.807422Z",
     "start_time": "2024-08-15T14:48:38.979979Z"
    }
   },
   "cell_type": "code",
   "source": "adata = ad.read_h5ad(data_path)",
   "id": "2a4558b768ba6db9",
   "outputs": [],
   "execution_count": 7
  },
  {
   "metadata": {
    "ExecuteTime": {
     "end_time": "2024-08-15T14:48:41.199785Z",
     "start_time": "2024-08-15T14:48:40.808300Z"
    }
   },
   "cell_type": "code",
   "source": [
    "# add mse on the pseudobulk to the metrics\n",
    "adata_pseudobulk = ad.read_h5ad(\"../data/neurips-2023-data/pseudobulk_cleaned.h5ad\")"
   ],
   "id": "d60e825077632fd0",
   "outputs": [],
   "execution_count": 8
  },
  {
   "metadata": {
    "ExecuteTime": {
     "end_time": "2024-08-15T14:48:41.207219Z",
     "start_time": "2024-08-15T14:48:41.200498Z"
    }
   },
   "cell_type": "code",
   "source": [
    "adata_pseudobulk.obs[\"sm_cell_type_donor\"] = adata_pseudobulk.obs[\"sm_name\"].astype(str) + \"_\" + adata_pseudobulk.obs[\"cell_type\"].astype(str) + \"_\" + adata_pseudobulk.obs[\"donor_id\"].astype(str)\n",
    "adata_pseudobulk.obs.sm_cell_type_donor = adata_pseudobulk.obs.sm_cell_type_donor.astype(\"category\")"
   ],
   "id": "7f0c39201531969c",
   "outputs": [],
   "execution_count": 9
  },
  {
   "metadata": {
    "ExecuteTime": {
     "end_time": "2024-08-15T14:48:41.305159Z",
     "start_time": "2024-08-15T14:48:41.207828Z"
    }
   },
   "cell_type": "code",
   "source": [
    "# normalize by cell count\n",
    "adata_pseudobulk.X = adata_pseudobulk.X / adata_pseudobulk.obs[\"cell_count_by_well_celltype\"].values[:, None]"
   ],
   "id": "a0422749afe3b955",
   "outputs": [],
   "execution_count": 10
  },
  {
   "metadata": {
    "ExecuteTime": {
     "end_time": "2024-08-15T14:48:41.341821Z",
     "start_time": "2024-08-15T14:48:41.307487Z"
    }
   },
   "cell_type": "code",
   "source": "adata_pseudobulk.X = adata_pseudobulk.X.todense()",
   "id": "1902a417420dd495",
   "outputs": [],
   "execution_count": 11
  },
  {
   "metadata": {
    "ExecuteTime": {
     "end_time": "2024-08-15T14:48:41.405009Z",
     "start_time": "2024-08-15T14:48:41.342910Z"
    }
   },
   "cell_type": "code",
   "source": [
    "X_df = pd.DataFrame(adata_pseudobulk.X, index=adata_pseudobulk.obs.index, columns=adata_pseudobulk.var_names)\n",
    "grouped_means = X_df.groupby(adata_pseudobulk.obs['sm_cell_type_donor']).mean()"
   ],
   "id": "c34ddbb938755799",
   "outputs": [
    {
     "name": "stderr",
     "output_type": "stream",
     "text": [
      "/var/folders/98/9ygjwkpd12d1vxydfprn1st00000gp/T/ipykernel_67284/3261264666.py:2: FutureWarning: The default of observed=False is deprecated and will be changed to True in a future version of pandas. Pass observed=False to retain current behavior or observed=True to adopt the future default and silence this warning.\n",
      "  grouped_means = X_df.groupby(adata_pseudobulk.obs['sm_cell_type_donor']).mean()\n"
     ]
    }
   ],
   "execution_count": 12
  },
  {
   "metadata": {
    "ExecuteTime": {
     "end_time": "2024-08-15T14:48:41.477073Z",
     "start_time": "2024-08-15T14:48:41.405793Z"
    }
   },
   "cell_type": "code",
   "source": "adata.layers[\"log_counts\"] = np.log1p(grouped_means.loc[adata.obs.sm_cell_type_donor].values)",
   "id": "ef00d5dabd6d830e",
   "outputs": [],
   "execution_count": 13
  },
  {
   "metadata": {
    "ExecuteTime": {
     "end_time": "2024-08-15T14:48:41.541785Z",
     "start_time": "2024-08-15T14:48:41.477844Z"
    }
   },
   "cell_type": "code",
   "source": [
    "threshold_log10pval = -np.log10(0.0001)\n",
    "threshold_pval = 0.0001\n",
    "# clip all of the values at 0.0001\n",
    "adata.layers[\"P.Value_notclipped\"] = adata.layers[\"P.Value\"].copy()\n",
    "adata.layers[\"P.Value\"] = np.clip(adata.layers[\"P.Value\"], a_min=threshold_pval, a_max=1)\n",
    "adata.layers[\"adj.P.Value\"] = np.clip(adata.layers[\"adj.P.Value\"], a_min=threshold_pval, a_max=1)\n",
    "adata.layers[\"sign_log10_pval\"] = np.clip(adata.layers[\"sign_log10_pval\"], a_min=-threshold_log10pval, a_max=threshold_log10pval)\n",
    "adata.layers[\"sign_log10_nonadj_pval\"] = np.clip(adata.layers[\"sign_log10_nonadj_pval\"], a_min=-threshold_log10pval, a_max=threshold_log10pval)"
   ],
   "id": "7aaa86b69f61ae86",
   "outputs": [],
   "execution_count": 14
  },
  {
   "metadata": {
    "ExecuteTime": {
     "end_time": "2024-08-15T14:48:42.017334Z",
     "start_time": "2024-08-15T14:48:41.542606Z"
    }
   },
   "cell_type": "code",
   "source": [
    "adata.layers['is_de_005'] = adata.layers.pop('is_de')\n",
    "\n",
    "# Rename the existing is_de_adj layer (assuming it was intended for adj.P.Value with 0.05 threshold)\n",
    "adata.layers['is_de_adj_005'] = adata.layers.pop('is_de_adj')\n",
    "\n",
    "# Define your other P.Value thresholds (excluding 0.05 since it's already handled)\n",
    "p_value_thresholds = [0.01, 0.005, 0.001, 0.0005, 0.0001, 0.00001, 1e-10]  # Add other thresholds as needed\n",
    "\n",
    "# Loop through each threshold and create a new layer\n",
    "for threshold in p_value_thresholds:\n",
    "    # Create a new layer name based on the threshold\n",
    "    layer_name = f'is_de_{str(threshold).replace(\".\", \"\")}'\n",
    "    \n",
    "    # Calculate the new layer values based on the threshold and sign of logFC\n",
    "    adata.layers[layer_name] = np.where(\n",
    "        (adata.layers['P.Value_notclipped'] < threshold),\n",
    "        np.sign(adata.layers['logFC']),\n",
    "        0\n",
    "    )\n",
    "logfc_thresholds = [1, 1.5, 2, 3]\n",
    "\n",
    "# Loop through each logFC threshold and create a new layer\n",
    "for threshold in logfc_thresholds:\n",
    "    # Create a new layer name based on the logFC threshold\n",
    "    layer_name = f'sign_log10_nonadj_pval_logfc_gt_{str(threshold).replace(\".\", \"\")}'\n",
    "    \n",
    "    # Calculate the new layer values based on the logFC threshold and sign of sign_log10_nonadj_pval\n",
    "    adata.layers[layer_name] = np.where(\n",
    "        (np.abs(adata.layers['logFC']) > threshold),\n",
    "        adata.layers['sign_log10_nonadj_pval'],\n",
    "        0\n",
    "    )"
   ],
   "id": "ca415c43b739810d",
   "outputs": [],
   "execution_count": 15
  },
  {
   "metadata": {
    "ExecuteTime": {
     "end_time": "2024-08-15T14:48:42.020091Z",
     "start_time": "2024-08-15T14:48:42.018012Z"
    }
   },
   "cell_type": "code",
   "source": [
    "def calculate_mse(single_data, multiple_data):\n",
    "    squared_diffs = (single_data - multiple_data) ** 2\n",
    "    mse_results = np.mean(squared_diffs, axis=1)\n",
    "    return np.expand_dims(mse_results, axis=0)"
   ],
   "id": "9599a9cc8708557e",
   "outputs": [],
   "execution_count": 16
  },
  {
   "metadata": {
    "ExecuteTime": {
     "end_time": "2024-08-15T14:48:42.022787Z",
     "start_time": "2024-08-15T14:48:42.020821Z"
    }
   },
   "cell_type": "code",
   "source": [
    "def calculate_mae(single_data, multiple_data):\n",
    "    abs_diffs = np.abs(single_data - multiple_data)\n",
    "    mae_results = np.mean(abs_diffs, axis=1)\n",
    "    return np.expand_dims(mae_results, axis=0)"
   ],
   "id": "9331b69667a8e6f5",
   "outputs": [],
   "execution_count": 17
  },
  {
   "metadata": {
    "ExecuteTime": {
     "end_time": "2024-08-15T14:52:25.962156Z",
     "start_time": "2024-08-15T14:48:42.023494Z"
    }
   },
   "cell_type": "code",
   "source": [
    "ranks = {\n",
    "    'signature': [],\n",
    "    'cell_type': [],\n",
    "    'donor_id_1': [],\n",
    "    'donor_id_2': [],\n",
    "    'sm_name': [],\n",
    "    'rank_cosine': [],\n",
    "    'rank_mae': [],\n",
    "    'rank_mse': []\n",
    "}\n",
    "\n",
    "# Iterate over each layer (signature) to calculate cosine similarities\n",
    "for signature in adata.layers.keys():\n",
    "    print(f\"Processing signature: {signature}\")\n",
    "    for cell_type in adata.obs['cell_type'].unique():\n",
    "        # Filter data by sm_cell_type\n",
    "        cell_type_adata = adata[adata.obs['cell_type'] == cell_type]\n",
    "        sm_names = cell_type_adata.obs['sm_name'].unique()\n",
    "\n",
    "        # Get unique donors within this sm_cell_type\n",
    "        donors = cell_type_adata.obs['donor_id'].unique()\n",
    "\n",
    "        # Iterate over all combinations of two different donors\n",
    "        for donor_id_1, donor_id_2 in itertools.combinations(donors, 2):\n",
    "            # Filter data for each donor\n",
    "            donor_data_1 = cell_type_adata[cell_type_adata.obs['donor_id'] == donor_id_1]\n",
    "            donor_data_2 = cell_type_adata[cell_type_adata.obs['donor_id'] == donor_id_2]\n",
    "            \n",
    "            for sm_name in donor_data_1.obs['sm_name'].unique():\n",
    "                if sm_name not in donor_data_2.obs['sm_name'].unique():\n",
    "                    continue\n",
    "                # get index of sm_name in donor_data_2\n",
    "                idx = np.where(donor_data_2.obs['sm_name'] == sm_name)[0][0]\n",
    "                data1 = donor_data_1[donor_data_1.obs['sm_name'] == sm_name].layers[signature].astype(float)\n",
    "                data2 = donor_data_2.layers[signature].astype(float)\n",
    "                cosine_similarity = pairwise.cosine_similarity(\n",
    "                    data1,\n",
    "                    data2\n",
    "                )\n",
    "                # pairwise MAE\n",
    "                mae = calculate_mae(data1, data2)\n",
    "                mse = calculate_mse(data1, data2)\n",
    "                rank_cosine = np.where(np.argsort(-cosine_similarity) == idx)[1][0]\n",
    "                rank_mae = np.where(np.argsort(mae) == idx)[1][0]\n",
    "                rank_mse = np.where(np.argsort(mse) == idx)[1][0]\n",
    "                ranks['signature'].append(signature)\n",
    "                ranks['cell_type'].append(cell_type)\n",
    "                ranks['donor_id_1'].append(donor_id_1)\n",
    "                ranks['donor_id_2'].append(donor_id_2)\n",
    "                ranks['sm_name'].append(sm_name)\n",
    "                ranks['rank_cosine'].append(rank_cosine)\n",
    "                ranks['rank_mae'].append(rank_mae)\n",
    "                ranks['rank_mse'].append(rank_mse)\n",
    "\n",
    "# Convert ranks to DataFrame for easier manipulation and output\n",
    "ranks_df = pd.DataFrame(ranks)"
   ],
   "id": "c6539544de679d3e",
   "outputs": [
    {
     "name": "stdout",
     "output_type": "stream",
     "text": [
      "Processing signature: P.Value\n",
      "Processing signature: adj.P.Value\n",
      "Processing signature: logFC\n",
      "Processing signature: sign_log10_nonadj_pval\n",
      "Processing signature: sign_log10_pval\n",
      "Processing signature: log_counts\n",
      "Processing signature: P.Value_notclipped\n",
      "Processing signature: is_de_005\n",
      "Processing signature: is_de_adj_005\n",
      "Processing signature: is_de_001\n",
      "Processing signature: is_de_0005\n",
      "Processing signature: is_de_0001\n",
      "Processing signature: is_de_00005\n",
      "Processing signature: is_de_00001\n",
      "Processing signature: is_de_1e-05\n",
      "Processing signature: is_de_1e-10\n",
      "Processing signature: sign_log10_nonadj_pval_logfc_gt_1\n",
      "Processing signature: sign_log10_nonadj_pval_logfc_gt_15\n",
      "Processing signature: sign_log10_nonadj_pval_logfc_gt_2\n",
      "Processing signature: sign_log10_nonadj_pval_logfc_gt_3\n"
     ]
    }
   ],
   "execution_count": 18
  },
  {
   "metadata": {
    "ExecuteTime": {
     "end_time": "2024-08-15T16:50:35.358832Z",
     "start_time": "2024-08-15T16:50:35.345874Z"
    }
   },
   "cell_type": "code",
   "source": [
    "# filter to only \"signature\" starting with \"is_de\" or \"sign_log10_nonadj_pval\"\n",
    "ranks_df_subset = ranks_df[ranks_df['signature'].str.startswith('is_de') | (ranks_df['signature'] == 'sign_log10_nonadj_pval')].copy()"
   ],
   "id": "a3af731d4c5ed5ea",
   "outputs": [],
   "execution_count": 62
  },
  {
   "metadata": {
    "ExecuteTime": {
     "end_time": "2024-08-15T16:50:35.767958Z",
     "start_time": "2024-08-15T16:50:35.758449Z"
    }
   },
   "cell_type": "code",
   "source": [
    "def rename_signature(signature):\n",
    "    if signature == 'sign_log10_nonadj_pval':\n",
    "        return 'Sign log10(P-value)'\n",
    "    elif signature.startswith('is_de'):\n",
    "        threshold = signature.split('_')[-1]\n",
    "        if threshold.startswith('0'):\n",
    "            threshold = f\".{threshold[1:]}\"\n",
    "        return f'DE {threshold}'\n",
    "    else:\n",
    "        return signature\n",
    "\n",
    "# Apply the function to rename the 'signature' column\n",
    "ranks_df_subset['signature'] = ranks_df_subset['signature'].apply(rename_signature)"
   ],
   "id": "821b63ae6fad1687",
   "outputs": [],
   "execution_count": 63
  },
  {
   "metadata": {
    "ExecuteTime": {
     "end_time": "2024-08-15T16:51:51.742223Z",
     "start_time": "2024-08-15T16:51:51.265440Z"
    }
   },
   "cell_type": "code",
   "source": [
    "ordered_signatures = ranks_df_subset.groupby('signature')['rank_mse'].median().sort_values().index\n",
    "sns.boxplot(data=ranks_df_subset, x='signature', y='rank_mse', order=ordered_signatures)\n",
    "plt.xticks(rotation=45)\n",
    "plt.ylabel('Cross-donor retrieval rank')\n",
    "plt.title('Cross-donor retrieval with L2 distance')\n",
    "plt.xlabel('Representation')\n",
    "# make tight\n",
    "plt.tight_layout()\n",
    "plt.savefig(\"suppfig_binarized_rep.pdf\", transparent=True)\n",
    "plt.show()"
   ],
   "id": "aed86f154a1da197",
   "outputs": [
    {
     "data": {
      "text/plain": [
       "<Figure size 640x480 with 1 Axes>"
      ],
      "image/png": "[encoded data removed]"
     },
     "metadata": {},
     "output_type": "display_data"
    }
   ],
   "execution_count": 65
  }
 ],
 "metadata": {
  "kernelspec": {
   "display_name": "Python 3",
   "language": "python",
   "name": "python3"
  },
  "language_info": {
   "codemirror_mode": {
    "name": "ipython",
    "version": 2
   },
   "file_extension": ".py",
   "mimetype": "text/x-python",
   "name": "python",
   "nbconvert_exporter": "python",
   "pygments_lexer": "ipython2",
   "version": "2.7.6"
  }
 },
 "nbformat": 4,
 "nbformat_minor": 5
}
