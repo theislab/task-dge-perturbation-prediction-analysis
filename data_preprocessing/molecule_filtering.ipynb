{
 "cells": [
  {
   "metadata": {
    "ExecuteTime": {
     "end_time": "2024-05-13T09:43:01.723042Z",
     "start_time": "2024-05-13T09:43:00.791785Z"
    }
   },
   "cell_type": "code",
   "source": [
    "import pandas as pd\n",
    "import anndata as ad"
   ],
   "id": "7f5f3a28c6b82659",
   "outputs": [],
   "execution_count": 1
  },
  {
   "cell_type": "code",
   "id": "initial_id",
   "metadata": {
    "collapsed": true,
    "ExecuteTime": {
     "end_time": "2024-05-13T09:54:36.483363Z",
     "start_time": "2024-05-13T09:54:02.455452Z"
    }
   },
   "source": "sc_counts = ad.read_h5ad(\"../data/sc_counts_reannotated_with_counts.h5ad\")",
   "outputs": [],
   "execution_count": 19
  },
  {
   "metadata": {
    "ExecuteTime": {
     "end_time": "2024-05-13T09:54:40.361370Z",
     "start_time": "2024-05-13T09:54:36.484435Z"
    }
   },
   "cell_type": "code",
   "source": [
    "# filter out samples with cell_count_by_well_celltype <= 10\n",
    "sc_counts = sc_counts[sc_counts.obs.cell_count_by_well_celltype > 10]"
   ],
   "id": "f664da71c570ee0c",
   "outputs": [],
   "execution_count": 20
  },
  {
   "metadata": {
    "ExecuteTime": {
     "end_time": "2024-05-13T09:57:16.405336Z",
     "start_time": "2024-05-13T09:57:16.399521Z"
    }
   },
   "cell_type": "code",
   "source": [
    "# filter out sm_names that have less than 2 donors\n",
    "celltype_counts = sc_counts.obs.groupby('sm_name').cell_type.nunique()"
   ],
   "id": "574055d9ecf18590",
   "outputs": [
    {
     "name": "stderr",
     "output_type": "stream",
     "text": [
      "/var/folders/98/9ygjwkpd12d1vxydfprn1st00000gp/T/ipykernel_97269/293000538.py:2: FutureWarning: The default of observed=False is deprecated and will be changed to True in a future version of pandas. Pass observed=False to retain current behavior or observed=True to adopt the future default and silence this warning.\n",
      "  celltype_counts = sc_counts.obs.groupby('sm_name').cell_type.nunique()\n"
     ]
    }
   ],
   "execution_count": 26
  },
  {
   "metadata": {
    "ExecuteTime": {
     "end_time": "2024-05-13T10:13:21.104235Z",
     "start_time": "2024-05-13T10:13:21.101847Z"
    }
   },
   "cell_type": "code",
   "source": [
    "fractions_outliers = ['ABT737',\n",
    " 'Alvocidib',\n",
    " 'BMS-387032',\n",
    " 'CGP 60474',\n",
    " 'Canertinib',\n",
    " 'Foretinib',\n",
    " 'Ganetespib (STA-9090)',\n",
    " 'IN1451',\n",
    " 'Navitoclax',\n",
    " 'PF-04691502',\n",
    " 'Palbociclib',\n",
    " 'Proscillaridin A;Proscillaridin-A',\n",
    " 'R428',\n",
    " 'Tamatinib',\n",
    " 'UNII-BXU45ZH6LI']"
   ],
   "id": "68cd1a8c330bd4d1",
   "outputs": [],
   "execution_count": 43
  },
  {
   "metadata": {
    "ExecuteTime": {
     "end_time": "2024-05-13T10:13:22.323262Z",
     "start_time": "2024-05-13T10:13:22.321339Z"
    }
   },
   "cell_type": "code",
   "source": "# drop donors with large inconsistency in cell type fractions",
   "id": "99994f6090a73f2e",
   "outputs": [],
   "execution_count": 44
  },
  {
   "metadata": {},
   "cell_type": "code",
   "outputs": [],
   "execution_count": null,
   "source": "compounds_with_large_inconsistency = ['ABT737', \"Alvocidib\", \"BMS-3870\", \"CGP 60474\", \"Canertinib\", ]",
   "id": "d4d24debbf14cc68"
  },
  {
   "metadata": {
    "ExecuteTime": {
     "end_time": "2024-05-13T10:18:09.557025Z",
     "start_time": "2024-05-13T10:18:08.963089Z"
    }
   },
   "cell_type": "code",
   "source": [
    "# print fractions of cell types for each sm_name in list per donor\n",
    "for sm_name in ['Dabrafenib', 'Belinostat', 'Dimethyl Sulfoxide']:\n",
    "    print(sm_name)\n",
    "    for donor in sc_counts[sc_counts.obs.sm_name == sm_name].obs.donor_id.unique():\n",
    "        print(donor)\n",
    "        print(sc_counts[(sc_counts.obs.sm_name == sm_name) & (sc_counts.obs.donor_id == donor)].obs.cell_type.value_counts(normalize=True))\n",
    "        print()\n",
    "    print(\"--------------------------------------------------\")"
   ],
   "id": "b81eacb8861bdf55",
   "outputs": [
    {
     "name": "stdout",
     "output_type": "stream",
     "text": [
      "Dabrafenib\n",
      "Donor 1\n",
      "cell_type\n",
      "T cells          0.500774\n",
      "Myeloid cells    0.226019\n",
      "B cells          0.216091\n",
      "NK cells         0.057117\n",
      "Name: proportion, dtype: float64\n",
      "\n",
      "Donor 2\n",
      "cell_type\n",
      "T cells          0.588915\n",
      "Myeloid cells    0.245536\n",
      "B cells          0.107132\n",
      "NK cells         0.058417\n",
      "Name: proportion, dtype: float64\n",
      "\n",
      "Donor 3\n",
      "cell_type\n",
      "T cells          0.582358\n",
      "Myeloid cells    0.210734\n",
      "B cells          0.137489\n",
      "NK cells         0.069419\n",
      "Name: proportion, dtype: float64\n",
      "\n",
      "--------------------------------------------------\n",
      "Belinostat\n",
      "Donor 1\n",
      "cell_type\n",
      "T cells          0.584990\n",
      "B cells          0.248982\n",
      "Myeloid cells    0.112332\n",
      "NK cells         0.053697\n",
      "Name: proportion, dtype: float64\n",
      "\n",
      "Donor 2\n",
      "cell_type\n",
      "T cells          0.691750\n",
      "B cells          0.141951\n",
      "Myeloid cells    0.094547\n",
      "NK cells         0.071752\n",
      "Name: proportion, dtype: float64\n",
      "\n",
      "Donor 3\n",
      "cell_type\n",
      "T cells          0.702660\n",
      "B cells          0.127778\n",
      "Myeloid cells    0.104701\n",
      "NK cells         0.064861\n",
      "Name: proportion, dtype: float64\n",
      "\n",
      "--------------------------------------------------\n",
      "Dimethyl Sulfoxide\n",
      "Donor 1\n",
      "cell_type\n",
      "T cells          0.530202\n",
      "B cells          0.217568\n",
      "Myeloid cells    0.184148\n",
      "NK cells         0.068082\n",
      "Name: proportion, dtype: float64\n",
      "\n",
      "Donor 2\n",
      "cell_type\n",
      "T cells          0.631524\n",
      "Myeloid cells    0.197714\n",
      "B cells          0.109333\n",
      "NK cells         0.061429\n",
      "Name: proportion, dtype: float64\n",
      "\n",
      "Donor 3\n",
      "cell_type\n",
      "T cells          0.608796\n",
      "Myeloid cells    0.168004\n",
      "B cells          0.145245\n",
      "NK cells         0.077955\n",
      "Name: proportion, dtype: float64\n",
      "\n",
      "--------------------------------------------------\n"
     ]
    }
   ],
   "execution_count": 48
  },
  {
   "metadata": {
    "ExecuteTime": {
     "end_time": "2024-05-13T10:13:44.304193Z",
     "start_time": "2024-05-13T10:13:44.027664Z"
    }
   },
   "cell_type": "code",
   "source": [
    "# print fractions of cell types for each sm_name in list per donor\n",
    "for sm_name in fractions_outliers:\n",
    "    print(sm_name)\n",
    "    for donor in sc_counts[sc_counts.obs.sm_name == sm_name].obs.donor_id.unique():\n",
    "        print(donor)\n",
    "        print(sc_counts[(sc_counts.obs.sm_name == sm_name) & (sc_counts.obs.donor_id == donor)].obs.cell_type.value_counts(normalize=True))\n",
    "        print()\n",
    "    print(\"--------------------------------------------------\")"
   ],
   "id": "cef6c3161e66c315",
   "outputs": [
    {
     "name": "stdout",
     "output_type": "stream",
     "text": [
      "ABT737\n",
      "Donor 1\n",
      "cell_type\n",
      "T cells          0.678431\n",
      "Myeloid cells    0.223529\n",
      "NK cells         0.098039\n",
      "Name: proportion, dtype: float64\n",
      "\n",
      "Donor 2\n",
      "cell_type\n",
      "T cells          0.636364\n",
      "Myeloid cells    0.327922\n",
      "NK cells         0.035714\n",
      "Name: proportion, dtype: float64\n",
      "\n",
      "Donor 3\n",
      "cell_type\n",
      "T cells          0.732523\n",
      "Myeloid cells    0.212766\n",
      "NK cells         0.054711\n",
      "Name: proportion, dtype: float64\n",
      "\n",
      "--------------------------------------------------\n",
      "Alvocidib\n",
      "Donor 1\n",
      "cell_type\n",
      "T cells    1.0\n",
      "Name: proportion, dtype: float64\n",
      "\n",
      "Donor 3\n",
      "cell_type\n",
      "T cells    1.0\n",
      "Name: proportion, dtype: float64\n",
      "\n",
      "--------------------------------------------------\n",
      "BMS-387032\n",
      "Donor 1\n",
      "cell_type\n",
      "T cells     0.786325\n",
      "NK cells    0.213675\n",
      "Name: proportion, dtype: float64\n",
      "\n",
      "Donor 2\n",
      "cell_type\n",
      "T cells    1.0\n",
      "Name: proportion, dtype: float64\n",
      "\n",
      "Donor 3\n",
      "cell_type\n",
      "T cells     0.77451\n",
      "NK cells    0.22549\n",
      "Name: proportion, dtype: float64\n",
      "\n",
      "--------------------------------------------------\n",
      "CGP 60474\n",
      "Donor 1\n",
      "cell_type\n",
      "T cells    1.0\n",
      "Name: proportion, dtype: float64\n",
      "\n",
      "Donor 2\n",
      "cell_type\n",
      "T cells    1.0\n",
      "Name: proportion, dtype: float64\n",
      "\n",
      "Donor 3\n",
      "cell_type\n",
      "T cells    1.0\n",
      "Name: proportion, dtype: float64\n",
      "\n",
      "--------------------------------------------------\n",
      "Canertinib\n",
      "Donor 1\n",
      "cell_type\n",
      "T cells          0.661765\n",
      "B cells          0.213235\n",
      "Myeloid cells    0.066176\n",
      "NK cells         0.058824\n",
      "Name: proportion, dtype: float64\n",
      "\n",
      "Donor 2\n",
      "cell_type\n",
      "T cells          0.645367\n",
      "Myeloid cells    0.172524\n",
      "B cells          0.111821\n",
      "NK cells         0.070288\n",
      "Name: proportion, dtype: float64\n",
      "\n",
      "Donor 3\n",
      "cell_type\n",
      "T cells          0.760736\n",
      "B cells          0.139571\n",
      "NK cells         0.069018\n",
      "Myeloid cells    0.030675\n",
      "Name: proportion, dtype: float64\n",
      "\n",
      "--------------------------------------------------\n",
      "Foretinib\n",
      "Donor 1\n",
      "cell_type\n",
      "T cells          0.593117\n",
      "B cells          0.236842\n",
      "Myeloid cells    0.111336\n",
      "NK cells         0.058704\n",
      "Name: proportion, dtype: float64\n",
      "\n",
      "Donor 2\n",
      "cell_type\n",
      "T cells          0.786017\n",
      "B cells          0.108051\n",
      "NK cells         0.069915\n",
      "Myeloid cells    0.036017\n",
      "Name: proportion, dtype: float64\n",
      "\n",
      "Donor 3\n",
      "cell_type\n",
      "T cells          0.725446\n",
      "B cells          0.176339\n",
      "NK cells         0.069196\n",
      "Myeloid cells    0.029018\n",
      "Name: proportion, dtype: float64\n",
      "\n",
      "--------------------------------------------------\n",
      "Ganetespib (STA-9090)\n",
      "Donor 1\n",
      "cell_type\n",
      "T cells     0.688889\n",
      "B cells     0.235556\n",
      "NK cells    0.075556\n",
      "Name: proportion, dtype: float64\n",
      "\n",
      "Donor 2\n",
      "cell_type\n",
      "T cells     0.836957\n",
      "B cells     0.116848\n",
      "NK cells    0.046196\n",
      "Name: proportion, dtype: float64\n",
      "\n",
      "Donor 3\n",
      "cell_type\n",
      "T cells          0.786718\n",
      "B cells          0.113665\n",
      "NK cells         0.070243\n",
      "Myeloid cells    0.029374\n",
      "Name: proportion, dtype: float64\n",
      "\n",
      "--------------------------------------------------\n",
      "IN1451\n",
      "Donor 1\n",
      "cell_type\n",
      "T cells          0.760933\n",
      "B cells          0.107872\n",
      "Myeloid cells    0.099125\n",
      "NK cells         0.032070\n",
      "Name: proportion, dtype: float64\n",
      "\n",
      "Donor 2\n",
      "cell_type\n",
      "Myeloid cells    0.642857\n",
      "T cells          0.357143\n",
      "Name: proportion, dtype: float64\n",
      "\n",
      "Donor 3\n",
      "cell_type\n",
      "T cells          0.802759\n",
      "Myeloid cells    0.108966\n",
      "B cells          0.055172\n",
      "NK cells         0.033103\n",
      "Name: proportion, dtype: float64\n",
      "\n",
      "--------------------------------------------------\n",
      "Navitoclax\n",
      "Donor 1\n",
      "cell_type\n",
      "T cells          0.618257\n",
      "Myeloid cells    0.236515\n",
      "NK cells         0.095436\n",
      "B cells          0.049793\n",
      "Name: proportion, dtype: float64\n",
      "\n",
      "Donor 2\n",
      "cell_type\n",
      "T cells          0.671772\n",
      "Myeloid cells    0.245077\n",
      "B cells          0.043764\n",
      "NK cells         0.039387\n",
      "Name: proportion, dtype: float64\n",
      "\n",
      "Donor 3\n",
      "cell_type\n",
      "T cells          0.856734\n",
      "Myeloid cells    0.111748\n",
      "NK cells         0.031519\n",
      "Name: proportion, dtype: float64\n",
      "\n",
      "--------------------------------------------------\n",
      "PF-04691502\n",
      "Donor 1\n",
      "cell_type\n",
      "T cells     0.656250\n",
      "B cells     0.259375\n",
      "NK cells    0.084375\n",
      "Name: proportion, dtype: float64\n",
      "\n",
      "Donor 2\n",
      "cell_type\n",
      "T cells     0.825959\n",
      "B cells     0.109145\n",
      "NK cells    0.064897\n",
      "Name: proportion, dtype: float64\n",
      "\n",
      "Donor 3\n",
      "cell_type\n",
      "T cells          0.676316\n",
      "B cells          0.150000\n",
      "Myeloid cells    0.102632\n",
      "NK cells         0.071053\n",
      "Name: proportion, dtype: float64\n",
      "\n",
      "--------------------------------------------------\n",
      "Palbociclib\n",
      "Donor 1\n",
      "cell_type\n",
      "T cells          0.525692\n",
      "B cells          0.272727\n",
      "Myeloid cells    0.130435\n",
      "NK cells         0.071146\n",
      "Name: proportion, dtype: float64\n",
      "\n",
      "Donor 2\n",
      "cell_type\n",
      "T cells          0.708163\n",
      "Myeloid cells    0.134694\n",
      "B cells          0.083673\n",
      "NK cells         0.073469\n",
      "Name: proportion, dtype: float64\n",
      "\n",
      "Donor 3\n",
      "cell_type\n",
      "T cells          0.618718\n",
      "Myeloid cells    0.169844\n",
      "B cells          0.112652\n",
      "NK cells         0.098787\n",
      "Name: proportion, dtype: float64\n",
      "\n",
      "--------------------------------------------------\n",
      "Proscillaridin A;Proscillaridin-A\n",
      "Donor 1\n",
      "cell_type\n",
      "T cells          0.579495\n",
      "B cells          0.300149\n",
      "NK cells         0.060921\n",
      "Myeloid cells    0.059435\n",
      "Name: proportion, dtype: float64\n",
      "\n",
      "Donor 2\n",
      "cell_type\n",
      "T cells          0.639313\n",
      "Myeloid cells    0.171756\n",
      "B cells          0.160305\n",
      "NK cells         0.028626\n",
      "Name: proportion, dtype: float64\n",
      "\n",
      "Donor 3\n",
      "cell_type\n",
      "T cells          0.744108\n",
      "B cells          0.143098\n",
      "NK cells         0.074074\n",
      "Myeloid cells    0.038721\n",
      "Name: proportion, dtype: float64\n",
      "\n",
      "--------------------------------------------------\n",
      "R428\n",
      "Donor 1\n",
      "cell_type\n",
      "T cells          0.592437\n",
      "B cells          0.245798\n",
      "Myeloid cells    0.134454\n",
      "NK cells         0.027311\n",
      "Name: proportion, dtype: float64\n",
      "\n",
      "Donor 2\n",
      "cell_type\n",
      "T cells          0.718310\n",
      "Myeloid cells    0.142857\n",
      "B cells          0.092555\n",
      "NK cells         0.046278\n",
      "Name: proportion, dtype: float64\n",
      "\n",
      "Donor 3\n",
      "cell_type\n",
      "T cells          0.639821\n",
      "Myeloid cells    0.161074\n",
      "B cells          0.125280\n",
      "NK cells         0.073826\n",
      "Name: proportion, dtype: float64\n",
      "\n",
      "--------------------------------------------------\n",
      "Tamatinib\n",
      "Donor 1\n",
      "cell_type\n",
      "T cells          0.620309\n",
      "B cells          0.264901\n",
      "NK cells         0.064018\n",
      "Myeloid cells    0.050773\n",
      "Name: proportion, dtype: float64\n",
      "\n",
      "Donor 2\n",
      "cell_type\n",
      "T cells     0.835859\n",
      "B cells     0.118687\n",
      "NK cells    0.045455\n",
      "Name: proportion, dtype: float64\n",
      "\n",
      "Donor 3\n",
      "cell_type\n",
      "T cells          0.711575\n",
      "B cells          0.151803\n",
      "NK cells         0.104364\n",
      "Myeloid cells    0.032258\n",
      "Name: proportion, dtype: float64\n",
      "\n",
      "--------------------------------------------------\n",
      "UNII-BXU45ZH6LI\n",
      "Donor 1\n",
      "cell_type\n",
      "B cells    1.0\n",
      "Name: proportion, dtype: float64\n",
      "\n",
      "Donor 2\n",
      "cell_type\n",
      "T cells          0.58125\n",
      "B cells          0.25625\n",
      "Myeloid cells    0.16250\n",
      "Name: proportion, dtype: float64\n",
      "\n",
      "Donor 3\n",
      "cell_type\n",
      "T cells    0.808333\n",
      "B cells    0.191667\n",
      "Name: proportion, dtype: float64\n",
      "\n",
      "--------------------------------------------------\n"
     ]
    }
   ],
   "execution_count": 45
  },
  {
   "metadata": {
    "ExecuteTime": {
     "end_time": "2024-05-13T13:58:50.543351Z",
     "start_time": "2024-05-13T13:58:47.157459Z"
    }
   },
   "cell_type": "code",
   "source": [
    "# Alvocidib only T cells in only 2 donors, remove\n",
    "sc_counts = sc_counts[sc_counts.obs.sm_name != \"Alvocidib\"]"
   ],
   "id": "79109d482ced8d85",
   "outputs": [],
   "execution_count": 49
  },
  {
   "metadata": {
    "ExecuteTime": {
     "end_time": "2024-05-13T13:59:56.561407Z",
     "start_time": "2024-05-13T13:59:52.945647Z"
    }
   },
   "cell_type": "code",
   "source": [
    "# BMS-387032 - one donor with only T cells, two other consistent, but only 2 cell types - leave the 2 cell types in, remove donor 2 with only T cells\n",
    "sc_counts = sc_counts[~((sc_counts.obs.sm_name == \"BMS-387032\") & (sc_counts.obs.donor_id == \"Donor 2\"))]"
   ],
   "id": "942a1b7a30f0eaaa",
   "outputs": [],
   "execution_count": 52
  },
  {
   "metadata": {
    "ExecuteTime": {
     "end_time": "2024-05-13T14:00:58.924325Z",
     "start_time": "2024-05-13T14:00:55.261688Z"
    }
   },
   "cell_type": "code",
   "source": [
    "# CGP 60474 has only T cells left, remove\n",
    "sc_counts = sc_counts[sc_counts.obs.sm_name != \"CGP 60474\"]"
   ],
   "id": "3ddcd93672d3df0",
   "outputs": [],
   "execution_count": 55
  },
  {
   "metadata": {
    "ExecuteTime": {
     "end_time": "2024-05-13T14:03:14.272711Z",
     "start_time": "2024-05-13T14:03:10.649002Z"
    }
   },
   "cell_type": "code",
   "source": [
    "# Canertinib - the variation of Myeloid cell proportions is very large, skip Myeloid\n",
    "sc_counts = sc_counts[~((sc_counts.obs.sm_name == \"Canertinib\") & (sc_counts.obs.cell_type == \"Myeloid cells\"))]"
   ],
   "id": "73f06681f6c54970",
   "outputs": [],
   "execution_count": 61
  },
  {
   "metadata": {
    "ExecuteTime": {
     "end_time": "2024-05-13T14:03:57.549580Z",
     "start_time": "2024-05-13T14:03:53.844998Z"
    }
   },
   "cell_type": "code",
   "source": [
    "# Foretinib - large variation in Myeloid cell proportions (some in T cells), skip Myeloid.\n",
    "sc_counts = sc_counts[~((sc_counts.obs.sm_name == \"Foretinib\") & (sc_counts.obs.cell_type == \"Myeloid cells\"))]"
   ],
   "id": "6b9e6400766810ac",
   "outputs": [],
   "execution_count": 63
  },
  {
   "metadata": {
    "ExecuteTime": {
     "end_time": "2024-05-13T14:05:11.089712Z",
     "start_time": "2024-05-13T14:05:07.483391Z"
    }
   },
   "cell_type": "code",
   "source": [
    "# Ganetespib (STA-9090) - donor 2 has no Myeloid and small NK cells proportions. Skip Myeloid, remove donor 2\n",
    "sc_counts = sc_counts[~((sc_counts.obs.sm_name == \"Ganetespib (STA-9090)\") & (sc_counts.obs.donor_id == \"Donor 2\"))]"
   ],
   "id": "da215890c230cbf1",
   "outputs": [],
   "execution_count": 65
  },
  {
   "metadata": {
    "ExecuteTime": {
     "end_time": "2024-05-13T14:05:46.045814Z",
     "start_time": "2024-05-13T14:05:42.365187Z"
    }
   },
   "cell_type": "code",
   "source": [
    "# IN1451 - donor 2 has no NK or B, remove Donor 2\n",
    "sc_counts = sc_counts[~((sc_counts.obs.sm_name == \"IN1451\") & (sc_counts.obs.donor_id == \"Donor 2\"))]"
   ],
   "id": "ad92fd8619400eeb",
   "outputs": [],
   "execution_count": 67
  },
  {
   "metadata": {
    "ExecuteTime": {
     "end_time": "2024-05-13T14:06:35.271233Z",
     "start_time": "2024-05-13T14:06:31.667156Z"
    }
   },
   "cell_type": "code",
   "source": [
    "# Navitoclax - donor 3 doesn't have B cells and has different T and Myeloid proportions, remove donor 3\n",
    "sc_counts = sc_counts[~((sc_counts.obs.sm_name == \"Navitoclax\") & (sc_counts.obs.donor_id == \"Donor 3\"))]"
   ],
   "id": "60559b1f4fbdea26",
   "outputs": [],
   "execution_count": 69
  },
  {
   "metadata": {
    "ExecuteTime": {
     "end_time": "2024-05-13T14:07:07.476641Z",
     "start_time": "2024-05-13T14:07:03.881404Z"
    }
   },
   "cell_type": "code",
   "source": [
    "# PF-04691502 remove Myeloid (only present in donor 3)\n",
    "sc_counts = sc_counts[~((sc_counts.obs.sm_name == \"PF-04691502\") & (sc_counts.obs.cell_type == \"Myeloid cells\"))]"
   ],
   "id": "114739d84b8124df",
   "outputs": [],
   "execution_count": 71
  },
  {
   "metadata": {
    "ExecuteTime": {
     "end_time": "2024-05-13T14:07:34.278932Z",
     "start_time": "2024-05-13T14:07:30.582974Z"
    }
   },
   "cell_type": "code",
   "source": [
    "# Proscillaridin A;Proscillaridin-A remove Myeloid, since the variation is very high (4x)\n",
    "sc_counts = sc_counts[~((sc_counts.obs.sm_name == \"Proscillaridin A;Proscillaridin-A\") & (sc_counts.obs.cell_type == \"Myeloid cells\"))]"
   ],
   "id": "1b764cede1b8a020",
   "outputs": [],
   "execution_count": 73
  },
  {
   "metadata": {
    "ExecuteTime": {
     "end_time": "2024-05-13T14:07:59.854052Z",
     "start_time": "2024-05-13T14:07:56.176971Z"
    }
   },
   "cell_type": "code",
   "source": [
    "# R428 - skip NK due to high variation (close to 3x)\n",
    "sc_counts = sc_counts[~((sc_counts.obs.sm_name == \"R428\") & (sc_counts.obs.cell_type == \"NK cells\"))]"
   ],
   "id": "5f10db6ae07e52e0",
   "outputs": [],
   "execution_count": 75
  },
  {
   "metadata": {
    "ExecuteTime": {
     "end_time": "2024-05-13T14:08:19.427470Z",
     "start_time": "2024-05-13T14:08:15.691194Z"
    }
   },
   "cell_type": "code",
   "source": [
    "# UNII-BXU45ZH6LI - remove due to large variation across all cell types and missing cell types\n",
    "sc_counts = sc_counts[sc_counts.obs.sm_name != \"UNII-BXU45ZH6LI\"]"
   ],
   "id": "cd308d682a7c07be",
   "outputs": [],
   "execution_count": 77
  },
  {
   "metadata": {},
   "cell_type": "code",
   "outputs": [],
   "execution_count": null,
   "source": [
    "# BMS-387032 remove myeloid cells and B cells\n",
    "sc_counts = sc_counts[~((sc_counts.obs.sm_name == \"BMS-387032\") & (sc_counts.obs.cell_type.isin([\"Myeloid cells\", \"B cells\"])))]"
   ],
   "id": "b3b5fb24c021d9d6"
  }
 ],
 "metadata": {
  "kernelspec": {
   "display_name": "Python 3",
   "language": "python",
   "name": "python3"
  },
  "language_info": {
   "codemirror_mode": {
    "name": "ipython",
    "version": 2
   },
   "file_extension": ".py",
   "mimetype": "text/x-python",
   "name": "python",
   "nbconvert_exporter": "python",
   "pygments_lexer": "ipython2",
   "version": "2.7.6"
  }
 },
 "nbformat": 4,
 "nbformat_minor": 5
}
